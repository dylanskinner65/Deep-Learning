{
  "cells": [
    {
      "cell_type": "markdown",
      "metadata": {
        "id": "rEwpv0GZ_CrT"
      },
      "source": [
        "<a \n",
        "href=\"https://colab.research.google.com/github/wingated/cs474_labs_f2019/blob/master/DL_Lab10.ipynb\"\n",
        "  target=\"_parent\">\n",
        "  <img\n",
        "    src=\"https://colab.research.google.com/assets/colab-badge.svg\"\n",
        "    alt=\"Open In Colab\"/>\n",
        "</a>"
      ]
    },
    {
      "cell_type": "markdown",
      "metadata": {
        "id": "xnoEhAVvBcMj"
      },
      "source": [
        "#Lab 9: Transfer Learning/Fine-Tuning"
      ]
    },
    {
      "cell_type": "markdown",
      "metadata": {
        "id": "sBOvJdJfkXIL"
      },
      "source": [
        "## Description"
      ]
    },
    {
      "cell_type": "markdown",
      "metadata": {
        "id": "GiuvTUWOjtBC"
      },
      "source": [
        "### Objective\n",
        "\n",
        "- Gain experience fine-tuning pre-trained models to domain-specific applications.\n",
        "\n",
        "### Deliverable\n",
        "\n",
        "For this lab you will submit an ipython notebook via learning suite. The bulk of the work is in modifying fine-tuning a pre-trained ResNet. Fine-tuning the GPT-2 language model is pretty easy. The provided code works as is; you will just have to swap in your own text dataset.\n",
        "\n",
        "### Grading\n",
        "\n",
        "- 35% Create a dataset class for your own dataset\n",
        "- 35% Create a network class that wraps a pretrained ResNet\n",
        "- 20% Implement unfreezing in the network class\n",
        "- 10% Fine-tune GPT-2 on your own dataset\n",
        "\n",
        "### Tips\n",
        "- Your life will be better if you download a dataset that already has the data in the expected format for ImageFolder (make sure to read the documentation!). The datasets recommended below are in the correct format.\n",
        "- Get the CNN working on the provided dataset (bird species classification) before swapping in your own.\n",
        "- For reference on freezing/unfreezing network weights, see [this github gist](https://gist.github.com/jcjohnson/6e41e8512c17eae5da50aebef3378a4c)\n",
        "- For training GPT-2, first try the medium-size (355M parameter) model. If your Colab instance doesn't have enough GPU space, you may need to switch to the small-size (124M parameter) model, but the results will be less impressive."
      ]
    },
    {
      "cell_type": "code",
      "execution_count": null,
      "metadata": {
        "id": "dKzRORuLBNLR"
      },
      "outputs": [],
      "source": [
        "from torchvision.models import resnet152\n",
        "from torchvision import transforms, datasets\n",
        "from torch.utils.data import DataLoader, Dataset\n",
        "import torch\n",
        "from torch import optim, nn\n",
        "import zipfile\n",
        "from google.colab import files\n",
        "import os\n",
        "import sys\n",
        "from PIL import Image, ImageOps\n",
        "from tqdm import tqdm\n",
        "import numpy as np\n",
        "from matplotlib import pyplot as plt"
      ]
    },
    {
      "cell_type": "markdown",
      "metadata": {
        "id": "S4R3D8Mr8b54"
      },
      "source": [
        "## 1 Fine-tune a ResNet for image classification"
      ]
    },
    {
      "cell_type": "markdown",
      "metadata": {
        "id": "kFoEeTYHDq2s"
      },
      "source": [
        "### 1.1 Find a dataset to fine-tune on, and make a Dataset class (1 hr.)"
      ]
    },
    {
      "cell_type": "markdown",
      "metadata": {
        "id": "7z6g7a_Y84n0"
      },
      "source": [
        "#### TODO:"
      ]
    },
    {
      "cell_type": "markdown",
      "metadata": {
        "id": "P8NtFZRd5hcm"
      },
      "source": [
        "- Inherit from torch.utils.data.Dataset\n",
        "- Use a [torchvision.datasets.ImageFolder](https://pytorch.org/docs/stable/torchvision/datasets.html#torchvision.datasets.ImageFolder)\n",
        "- Don't spend too long finding another dataset. Some suggestions that you are free to use:\n",
        " - https://www.kaggle.com/akash2907/bird-species-classification\n",
        " - https://www.kaggle.com/jessicali9530/stanford-dogs-dataset\n",
        " - https://www.kaggle.com/puneet6060/intel-image-classification\n"
      ]
    },
    {
      "cell_type": "markdown",
      "metadata": {
        "id": "TBigIUFTukeJ"
      },
      "source": [
        "#### Help for downloading kaggle datasets\n",
        "Downloading Kaggle datasets requires authentication, so you can't just download from a url. Here are some step-by-step instructions of how to get Kaggle datasets in Colab"
      ]
    },
    {
      "cell_type": "markdown",
      "metadata": {
        "id": "_X29UC6CvwfQ"
      },
      "source": [
        "1. Create an API key in Kaggle\n",
        "    - Click on profile photo\n",
        "    - Go to 'My Account'\n",
        "    - Scroll down to the API access section and click \"Create New API Token\"\n",
        "    - `kaggle.json` is now downloaded to your computer\n",
        "\n",
        "2. Upload the API key and install the Kaggle API client by running the next cell (run it again if it throws an error the first time). Also, `files.upload()` may not work in Firefox. One solution is to expand the Files banner (indicated by the '>' tab on the left side of the page) and use that to upload the key."
      ]
    },
    {
      "cell_type": "code",
      "execution_count": null,
      "metadata": {
        "colab": {
          "base_uri": "https://localhost:8080/",
          "height": 90,
          "resources": {
            "http://localhost:8080/nbextensions/google.colab/files.js": {
              "data": "Ly8gQ29weXJpZ2h0IDIwMTcgR29vZ2xlIExMQwovLwovLyBMaWNlbnNlZCB1bmRlciB0aGUgQXBhY2hlIExpY2Vuc2UsIFZlcnNpb24gMi4wICh0aGUgIkxpY2Vuc2UiKTsKLy8geW91IG1heSBub3QgdXNlIHRoaXMgZmlsZSBleGNlcHQgaW4gY29tcGxpYW5jZSB3aXRoIHRoZSBMaWNlbnNlLgovLyBZb3UgbWF5IG9idGFpbiBhIGNvcHkgb2YgdGhlIExpY2Vuc2UgYXQKLy8KLy8gICAgICBodHRwOi8vd3d3LmFwYWNoZS5vcmcvbGljZW5zZXMvTElDRU5TRS0yLjAKLy8KLy8gVW5sZXNzIHJlcXVpcmVkIGJ5IGFwcGxpY2FibGUgbGF3IG9yIGFncmVlZCB0byBpbiB3cml0aW5nLCBzb2Z0d2FyZQovLyBkaXN0cmlidXRlZCB1bmRlciB0aGUgTGljZW5zZSBpcyBkaXN0cmlidXRlZCBvbiBhbiAiQVMgSVMiIEJBU0lTLAovLyBXSVRIT1VUIFdBUlJBTlRJRVMgT1IgQ09ORElUSU9OUyBPRiBBTlkgS0lORCwgZWl0aGVyIGV4cHJlc3Mgb3IgaW1wbGllZC4KLy8gU2VlIHRoZSBMaWNlbnNlIGZvciB0aGUgc3BlY2lmaWMgbGFuZ3VhZ2UgZ292ZXJuaW5nIHBlcm1pc3Npb25zIGFuZAovLyBsaW1pdGF0aW9ucyB1bmRlciB0aGUgTGljZW5zZS4KCi8qKgogKiBAZmlsZW92ZXJ2aWV3IEhlbHBlcnMgZm9yIGdvb2dsZS5jb2xhYiBQeXRob24gbW9kdWxlLgogKi8KKGZ1bmN0aW9uKHNjb3BlKSB7CmZ1bmN0aW9uIHNwYW4odGV4dCwgc3R5bGVBdHRyaWJ1dGVzID0ge30pIHsKICBjb25zdCBlbGVtZW50ID0gZG9jdW1lbnQuY3JlYXRlRWxlbWVudCgnc3BhbicpOwogIGVsZW1lbnQudGV4dENvbnRlbnQgPSB0ZXh0OwogIGZvciAoY29uc3Qga2V5IG9mIE9iamVjdC5rZXlzKHN0eWxlQXR0cmlidXRlcykpIHsKICAgIGVsZW1lbnQuc3R5bGVba2V5XSA9IHN0eWxlQXR0cmlidXRlc1trZXldOwogIH0KICByZXR1cm4gZWxlbWVudDsKfQoKLy8gTWF4IG51bWJlciBvZiBieXRlcyB3aGljaCB3aWxsIGJlIHVwbG9hZGVkIGF0IGEgdGltZS4KY29uc3QgTUFYX1BBWUxPQURfU0laRSA9IDEwMCAqIDEwMjQ7CgpmdW5jdGlvbiBfdXBsb2FkRmlsZXMoaW5wdXRJZCwgb3V0cHV0SWQpIHsKICBjb25zdCBzdGVwcyA9IHVwbG9hZEZpbGVzU3RlcChpbnB1dElkLCBvdXRwdXRJZCk7CiAgY29uc3Qgb3V0cHV0RWxlbWVudCA9IGRvY3VtZW50LmdldEVsZW1lbnRCeUlkKG91dHB1dElkKTsKICAvLyBDYWNoZSBzdGVwcyBvbiB0aGUgb3V0cHV0RWxlbWVudCB0byBtYWtlIGl0IGF2YWlsYWJsZSBmb3IgdGhlIG5leHQgY2FsbAogIC8vIHRvIHVwbG9hZEZpbGVzQ29udGludWUgZnJvbSBQeXRob24uCiAgb3V0cHV0RWxlbWVudC5zdGVwcyA9IHN0ZXBzOwoKICByZXR1cm4gX3VwbG9hZEZpbGVzQ29udGludWUob3V0cHV0SWQpOwp9CgovLyBUaGlzIGlzIHJvdWdobHkgYW4gYXN5bmMgZ2VuZXJhdG9yIChub3Qgc3VwcG9ydGVkIGluIHRoZSBicm93c2VyIHlldCksCi8vIHdoZXJlIHRoZXJlIGFyZSBtdWx0aXBsZSBhc3luY2hyb25vdXMgc3RlcHMgYW5kIHRoZSBQeXRob24gc2lkZSBpcyBnb2luZwovLyB0byBwb2xsIGZvciBjb21wbGV0aW9uIG9mIGVhY2ggc3RlcC4KLy8gVGhpcyB1c2VzIGEgUHJvbWlzZSB0byBibG9jayB0aGUgcHl0aG9uIHNpZGUgb24gY29tcGxldGlvbiBvZiBlYWNoIHN0ZXAsCi8vIHRoZW4gcGFzc2VzIHRoZSByZXN1bHQgb2YgdGhlIHByZXZpb3VzIHN0ZXAgYXMgdGhlIGlucHV0IHRvIHRoZSBuZXh0IHN0ZXAuCmZ1bmN0aW9uIF91cGxvYWRGaWxlc0NvbnRpbnVlKG91dHB1dElkKSB7CiAgY29uc3Qgb3V0cHV0RWxlbWVudCA9IGRvY3VtZW50LmdldEVsZW1lbnRCeUlkKG91dHB1dElkKTsKICBjb25zdCBzdGVwcyA9IG91dHB1dEVsZW1lbnQuc3RlcHM7CgogIGNvbnN0IG5leHQgPSBzdGVwcy5uZXh0KG91dHB1dEVsZW1lbnQubGFzdFByb21pc2VWYWx1ZSk7CiAgcmV0dXJuIFByb21pc2UucmVzb2x2ZShuZXh0LnZhbHVlLnByb21pc2UpLnRoZW4oKHZhbHVlKSA9PiB7CiAgICAvLyBDYWNoZSB0aGUgbGFzdCBwcm9taXNlIHZhbHVlIHRvIG1ha2UgaXQgYXZhaWxhYmxlIHRvIHRoZSBuZXh0CiAgICAvLyBzdGVwIG9mIHRoZSBnZW5lcmF0b3IuCiAgICBvdXRwdXRFbGVtZW50Lmxhc3RQcm9taXNlVmFsdWUgPSB2YWx1ZTsKICAgIHJldHVybiBuZXh0LnZhbHVlLnJlc3BvbnNlOwogIH0pOwp9CgovKioKICogR2VuZXJhdG9yIGZ1bmN0aW9uIHdoaWNoIGlzIGNhbGxlZCBiZXR3ZWVuIGVhY2ggYXN5bmMgc3RlcCBvZiB0aGUgdXBsb2FkCiAqIHByb2Nlc3MuCiAqIEBwYXJhbSB7c3RyaW5nfSBpbnB1dElkIEVsZW1lbnQgSUQgb2YgdGhlIGlucHV0IGZpbGUgcGlja2VyIGVsZW1lbnQuCiAqIEBwYXJhbSB7c3RyaW5nfSBvdXRwdXRJZCBFbGVtZW50IElEIG9mIHRoZSBvdXRwdXQgZGlzcGxheS4KICogQHJldHVybiB7IUl0ZXJhYmxlPCFPYmplY3Q+fSBJdGVyYWJsZSBvZiBuZXh0IHN0ZXBzLgogKi8KZnVuY3Rpb24qIHVwbG9hZEZpbGVzU3RlcChpbnB1dElkLCBvdXRwdXRJZCkgewogIGNvbnN0IGlucHV0RWxlbWVudCA9IGRvY3VtZW50LmdldEVsZW1lbnRCeUlkKGlucHV0SWQpOwogIGlucHV0RWxlbWVudC5kaXNhYmxlZCA9IGZhbHNlOwoKICBjb25zdCBvdXRwdXRFbGVtZW50ID0gZG9jdW1lbnQuZ2V0RWxlbWVudEJ5SWQob3V0cHV0SWQpOwogIG91dHB1dEVsZW1lbnQuaW5uZXJIVE1MID0gJyc7CgogIGNvbnN0IHBpY2tlZFByb21pc2UgPSBuZXcgUHJvbWlzZSgocmVzb2x2ZSkgPT4gewogICAgaW5wdXRFbGVtZW50LmFkZEV2ZW50TGlzdGVuZXIoJ2NoYW5nZScsIChlKSA9PiB7CiAgICAgIHJlc29sdmUoZS50YXJnZXQuZmlsZXMpOwogICAgfSk7CiAgfSk7CgogIGNvbnN0IGNhbmNlbCA9IGRvY3VtZW50LmNyZWF0ZUVsZW1lbnQoJ2J1dHRvbicpOwogIGlucHV0RWxlbWVudC5wYXJlbnRFbGVtZW50LmFwcGVuZENoaWxkKGNhbmNlbCk7CiAgY2FuY2VsLnRleHRDb250ZW50ID0gJ0NhbmNlbCB1cGxvYWQnOwogIGNvbnN0IGNhbmNlbFByb21pc2UgPSBuZXcgUHJvbWlzZSgocmVzb2x2ZSkgPT4gewogICAgY2FuY2VsLm9uY2xpY2sgPSAoKSA9PiB7CiAgICAgIHJlc29sdmUobnVsbCk7CiAgICB9OwogIH0pOwoKICAvLyBXYWl0IGZvciB0aGUgdXNlciB0byBwaWNrIHRoZSBmaWxlcy4KICBjb25zdCBmaWxlcyA9IHlpZWxkIHsKICAgIHByb21pc2U6IFByb21pc2UucmFjZShbcGlja2VkUHJvbWlzZSwgY2FuY2VsUHJvbWlzZV0pLAogICAgcmVzcG9uc2U6IHsKICAgICAgYWN0aW9uOiAnc3RhcnRpbmcnLAogICAgfQogIH07CgogIGNhbmNlbC5yZW1vdmUoKTsKCiAgLy8gRGlzYWJsZSB0aGUgaW5wdXQgZWxlbWVudCBzaW5jZSBmdXJ0aGVyIHBpY2tzIGFyZSBub3QgYWxsb3dlZC4KICBpbnB1dEVsZW1lbnQuZGlzYWJsZWQgPSB0cnVlOwoKICBpZiAoIWZpbGVzKSB7CiAgICByZXR1cm4gewogICAgICByZXNwb25zZTogewogICAgICAgIGFjdGlvbjogJ2NvbXBsZXRlJywKICAgICAgfQogICAgfTsKICB9CgogIGZvciAoY29uc3QgZmlsZSBvZiBmaWxlcykgewogICAgY29uc3QgbGkgPSBkb2N1bWVudC5jcmVhdGVFbGVtZW50KCdsaScpOwogICAgbGkuYXBwZW5kKHNwYW4oZmlsZS5uYW1lLCB7Zm9udFdlaWdodDogJ2JvbGQnfSkpOwogICAgbGkuYXBwZW5kKHNwYW4oCiAgICAgICAgYCgke2ZpbGUudHlwZSB8fCAnbi9hJ30pIC0gJHtmaWxlLnNpemV9IGJ5dGVzLCBgICsKICAgICAgICBgbGFzdCBtb2RpZmllZDogJHsKICAgICAgICAgICAgZmlsZS5sYXN0TW9kaWZpZWREYXRlID8gZmlsZS5sYXN0TW9kaWZpZWREYXRlLnRvTG9jYWxlRGF0ZVN0cmluZygpIDoKICAgICAgICAgICAgICAgICAgICAgICAgICAgICAgICAgICAgJ24vYSd9IC0gYCkpOwogICAgY29uc3QgcGVyY2VudCA9IHNwYW4oJzAlIGRvbmUnKTsKICAgIGxpLmFwcGVuZENoaWxkKHBlcmNlbnQpOwoKICAgIG91dHB1dEVsZW1lbnQuYXBwZW5kQ2hpbGQobGkpOwoKICAgIGNvbnN0IGZpbGVEYXRhUHJvbWlzZSA9IG5ldyBQcm9taXNlKChyZXNvbHZlKSA9PiB7CiAgICAgIGNvbnN0IHJlYWRlciA9IG5ldyBGaWxlUmVhZGVyKCk7CiAgICAgIHJlYWRlci5vbmxvYWQgPSAoZSkgPT4gewogICAgICAgIHJlc29sdmUoZS50YXJnZXQucmVzdWx0KTsKICAgICAgfTsKICAgICAgcmVhZGVyLnJlYWRBc0FycmF5QnVmZmVyKGZpbGUpOwogICAgfSk7CiAgICAvLyBXYWl0IGZvciB0aGUgZGF0YSB0byBiZSByZWFkeS4KICAgIGxldCBmaWxlRGF0YSA9IHlpZWxkIHsKICAgICAgcHJvbWlzZTogZmlsZURhdGFQcm9taXNlLAogICAgICByZXNwb25zZTogewogICAgICAgIGFjdGlvbjogJ2NvbnRpbnVlJywKICAgICAgfQogICAgfTsKCiAgICAvLyBVc2UgYSBjaHVua2VkIHNlbmRpbmcgdG8gYXZvaWQgbWVzc2FnZSBzaXplIGxpbWl0cy4gU2VlIGIvNjIxMTU2NjAuCiAgICBsZXQgcG9zaXRpb24gPSAwOwogICAgZG8gewogICAgICBjb25zdCBsZW5ndGggPSBNYXRoLm1pbihmaWxlRGF0YS5ieXRlTGVuZ3RoIC0gcG9zaXRpb24sIE1BWF9QQVlMT0FEX1NJWkUpOwogICAgICBjb25zdCBjaHVuayA9IG5ldyBVaW50OEFycmF5KGZpbGVEYXRhLCBwb3NpdGlvbiwgbGVuZ3RoKTsKICAgICAgcG9zaXRpb24gKz0gbGVuZ3RoOwoKICAgICAgY29uc3QgYmFzZTY0ID0gYnRvYShTdHJpbmcuZnJvbUNoYXJDb2RlLmFwcGx5KG51bGwsIGNodW5rKSk7CiAgICAgIHlpZWxkIHsKICAgICAgICByZXNwb25zZTogewogICAgICAgICAgYWN0aW9uOiAnYXBwZW5kJywKICAgICAgICAgIGZpbGU6IGZpbGUubmFtZSwKICAgICAgICAgIGRhdGE6IGJhc2U2NCwKICAgICAgICB9LAogICAgICB9OwoKICAgICAgbGV0IHBlcmNlbnREb25lID0gZmlsZURhdGEuYnl0ZUxlbmd0aCA9PT0gMCA/CiAgICAgICAgICAxMDAgOgogICAgICAgICAgTWF0aC5yb3VuZCgocG9zaXRpb24gLyBmaWxlRGF0YS5ieXRlTGVuZ3RoKSAqIDEwMCk7CiAgICAgIHBlcmNlbnQudGV4dENvbnRlbnQgPSBgJHtwZXJjZW50RG9uZX0lIGRvbmVgOwoKICAgIH0gd2hpbGUgKHBvc2l0aW9uIDwgZmlsZURhdGEuYnl0ZUxlbmd0aCk7CiAgfQoKICAvLyBBbGwgZG9uZS4KICB5aWVsZCB7CiAgICByZXNwb25zZTogewogICAgICBhY3Rpb246ICdjb21wbGV0ZScsCiAgICB9CiAgfTsKfQoKc2NvcGUuZ29vZ2xlID0gc2NvcGUuZ29vZ2xlIHx8IHt9OwpzY29wZS5nb29nbGUuY29sYWIgPSBzY29wZS5nb29nbGUuY29sYWIgfHwge307CnNjb3BlLmdvb2dsZS5jb2xhYi5fZmlsZXMgPSB7CiAgX3VwbG9hZEZpbGVzLAogIF91cGxvYWRGaWxlc0NvbnRpbnVlLAp9Owp9KShzZWxmKTsK",
              "headers": [
                [
                  "content-type",
                  "application/javascript"
                ]
              ],
              "ok": true,
              "status": 200,
              "status_text": ""
            }
          }
        },
        "id": "Mhjc0pM7jOoZ",
        "outputId": "6e13ddc9-722b-46a1-8e5c-d31b3391d8ba"
      },
      "outputs": [
        {
          "output_type": "display_data",
          "data": {
            "text/html": [
              "\n",
              "     <input type=\"file\" id=\"files-3065d692-f74c-4d43-a85a-087c18da07b1\" name=\"files[]\" multiple disabled\n",
              "        style=\"border:none\" />\n",
              "     <output id=\"result-3065d692-f74c-4d43-a85a-087c18da07b1\">\n",
              "      Upload widget is only available when the cell has been executed in the\n",
              "      current browser session. Please rerun this cell to enable.\n",
              "      </output>\n",
              "      <script src=\"/nbextensions/google.colab/files.js\"></script> "
            ],
            "text/plain": [
              "<IPython.core.display.HTML object>"
            ]
          },
          "metadata": {}
        },
        {
          "output_type": "stream",
          "name": "stdout",
          "text": [
            "Saving kaggle.json to kaggle.json\n",
            "-rw-r--r-- 1 root root 68 Mar  1 19:35 kaggle.json\n"
          ]
        }
      ],
      "source": [
        "# Run this cell and select the kaggle.json file downloaded\n",
        "# from the Kaggle account settings page.\n",
        "from google.colab import files\n",
        "files.upload()\n",
        "# Next, install the Kaggle API client.\n",
        "!pip install -q kaggle\n",
        "# Let's make sure the kaggle.json file is present.\n",
        "!ls -lha kaggle.json\n",
        "# The Kaggle API client expects this file to be in ~/.kaggle,\n",
        "# so move it there.\n",
        "!mkdir -p ~/.kaggle\n",
        "!mv kaggle.json ~/.kaggle/\n",
        "# This permissions change avoids a warning on Kaggle tool startup.\n",
        "!chmod 600 ~/.kaggle/kaggle.json"
      ]
    },
    {
      "cell_type": "markdown",
      "metadata": {
        "id": "AGlIa4SIwEXB"
      },
      "source": [
        "3. Copy the desired dataset locally"
      ]
    },
    {
      "cell_type": "code",
      "execution_count": null,
      "metadata": {
        "colab": {
          "base_uri": "https://localhost:8080/"
        },
        "id": "7HtB-XdIr1EE",
        "outputId": "4c0d78db-79b2-47c2-d19a-4455cdeb5015"
      },
      "outputs": [
        {
          "output_type": "stream",
          "name": "stdout",
          "text": [
            "Downloading bird-species-classification.zip to /content\n",
            " 99% 1.36G/1.37G [00:45<00:00, 36.0MB/s]\n",
            "100% 1.37G/1.37G [00:45<00:00, 32.6MB/s]\n"
          ]
        }
      ],
      "source": [
        "# Example download command for dataset found here: https://www.kaggle.com/akash2907/bird-species-classification\n",
        "!kaggle datasets download -d akash2907/bird-species-classification"
      ]
    },
    {
      "cell_type": "markdown",
      "metadata": {
        "id": "zcz0JGXjxFGe"
      },
      "source": [
        "#### Make the Dataset class\n",
        "See the implementation below for reference, and make your own."
      ]
    },
    {
      "cell_type": "code",
      "execution_count": null,
      "metadata": {
        "id": "lthPlsGeK4CX"
      },
      "outputs": [],
      "source": [
        "class BirdDataset(Dataset):\n",
        "    def __init__(self, zip_file='./bird-species-classification.zip', size=256, train=True, upload=False):\n",
        "        super(BirdDataset, self).__init__()\n",
        "        \n",
        "        self.train = train\n",
        "        extract_dir = os.path.splitext(zip_file)[0]\n",
        "        if not os.path.exists(extract_dir):\n",
        "            os.makedirs(extract_dir)\n",
        "            self.extract_zip(zip_file, extract_dir)\n",
        "            # Resize the images - originally they are high resolution. We could do this\n",
        "            # in the DataLoader, but it will read the full-resolution files from disk\n",
        "            # every time before resizing them, making training slow\n",
        "            self.resize(extract_dir, size=size)\n",
        "\n",
        "        postfix = 'train' if train else 'test'\n",
        "            \n",
        "        if train:\n",
        "            # The bird-species dataset mistakenly has a train_data folder inside of train_data\n",
        "            self.dataset_folder = datasets.ImageFolder(os.path.join(extract_dir, 'train_data', 'train_data'), transform=transforms.Compose([transforms.ToTensor()]))\n",
        "        else:\n",
        "            self.dataset_folder = datasets.ImageFolder(os.path.join(extract_dir, 'test_data', 'test_data'), transform=transforms.Compose([transforms.ToTensor()]))\n",
        "\n",
        "    def extract_zip(self, zip_file, extract_dir):\n",
        "        print(\"Extracting\", zip_file)\n",
        "        with zipfile.ZipFile(zip_file, 'r') as zip_ref:\n",
        "            zip_ref.extractall(extract_dir)\n",
        "\n",
        "    def resize(self, path, size=256):\n",
        "        \"\"\"Resizes all images in place\"\"\"\n",
        "        print(\"Resizing images\")\n",
        "        dirs = os.walk(path)\n",
        "        for root, dirs, files in os.walk(path):\n",
        "            for item in files:\n",
        "                name = os.path.join(root, item)\n",
        "                if os.path.isfile(name):\n",
        "                    im = Image.open(name)\n",
        "                    im = ImageOps.fit(im, (size, size))\n",
        "                    im.save(name[:-3] + 'bmp', 'BMP')\n",
        "                    os.remove(name)\n",
        "\n",
        "    def __getitem__(self, i):\n",
        "        return self.dataset_folder[i]\n",
        "\n",
        "    def __len__(self):\n",
        "      return 1000\n",
        "        # return len(self.dataset_folder)\n",
        "\n",
        "bird_data = BirdDataset()"
      ]
    },
    {
      "cell_type": "code",
      "source": [
        "!kaggle datasets download -d puneet6060/intel-image-classification"
      ],
      "metadata": {
        "colab": {
          "base_uri": "https://localhost:8080/"
        },
        "id": "RM6RznTiK2Fh",
        "outputId": "e53fc9d5-7bad-4b93-cfa8-3a39ff5f4abc"
      },
      "execution_count": null,
      "outputs": [
        {
          "output_type": "stream",
          "name": "stdout",
          "text": [
            "Downloading intel-image-classification.zip to /content\n",
            " 97% 337M/346M [00:11<00:00, 24.6MB/s]\n",
            "100% 346M/346M [00:11<00:00, 32.2MB/s]\n"
          ]
        }
      ]
    },
    {
      "cell_type": "code",
      "execution_count": null,
      "metadata": {
        "id": "5jHFdToeDtIF"
      },
      "outputs": [],
      "source": [
        "##############################\n",
        "# Implement your own Dataset #\n",
        "##############################\n",
        "class IntelDataset(Dataset):\n",
        "    def __init__(self, zip_file='./intel-image-classification.zip', size=64, train=True, upload=False):\n",
        "        super(IntelDataset, self).__init__()\n",
        "        \n",
        "        self.train = train\n",
        "        extract_dir = os.path.splitext(zip_file)[0]\n",
        "        if not os.path.exists(extract_dir):\n",
        "            os.makedirs(extract_dir)\n",
        "            self.extract_zip(zip_file, extract_dir)\n",
        "            # Resize the images - originally they are high resolution. We could do this\n",
        "            # in the DataLoader, but it will read the full-resolution files from disk\n",
        "            # every time before resizing them, making training slow\n",
        "            self.resize(extract_dir, size=size)\n",
        "\n",
        "        postfix = 'train' if train else 'test'\n",
        "            \n",
        "        if train:\n",
        "            # The bird-species dataset mistakenly has a train_data folder inside of train_data\n",
        "            self.dataset_folder = datasets.ImageFolder(os.path.join(extract_dir, 'seg_train', 'seg_train'), transform=transforms.Compose([transforms.ToTensor()]))\n",
        "        else:\n",
        "            self.dataset_folder = datasets.ImageFolder(os.path.join(extract_dir, 'seg_test', 'seg_test'), transform=transforms.Compose([transforms.ToTensor()]))\n",
        "\n",
        "    def extract_zip(self, zip_file, extract_dir):\n",
        "        print(\"Extracting\", zip_file)\n",
        "        with zipfile.ZipFile(zip_file, 'r') as zip_ref:\n",
        "            zip_ref.extractall(extract_dir)\n",
        "\n",
        "    def resize(self, path, size=64):\n",
        "        \"\"\"Resizes all images in place\"\"\"\n",
        "        print(\"Resizing images\")\n",
        "        dirs = os.walk(path)\n",
        "        for root, dirs, files in os.walk(path):\n",
        "            for item in files:\n",
        "                name = os.path.join(root, item)\n",
        "                if os.path.isfile(name):\n",
        "                    im = Image.open(name)\n",
        "                    im = ImageOps.fit(im, (size, size))\n",
        "                    im.save(name[:-3] + 'bmp', 'BMP')\n",
        "                    os.remove(name)\n",
        "\n",
        "    def __getitem__(self, i):\n",
        "        return self.dataset_folder[i]\n",
        "\n",
        "    def __len__(self):\n",
        "      return 500\n",
        "        #return len((self.dataset_folder) // 5)\n",
        "\n",
        "intel_data = IntelDataset()"
      ]
    },
    {
      "cell_type": "markdown",
      "metadata": {
        "id": "2vJVbYcAJAf2"
      },
      "source": [
        "### 1.2 Wrap a pretrained ResNet in an `nn.Module` (30 min)"
      ]
    },
    {
      "cell_type": "markdown",
      "metadata": {
        "id": "gMOzGDND9FD1"
      },
      "source": [
        "#### TODO:"
      ]
    },
    {
      "cell_type": "markdown",
      "metadata": {
        "id": "jLvmDHbl9IyG"
      },
      "source": [
        "- Make a model class that inherits from `nn.Module`\n",
        "- Wrap a pretrained ResNet and swap out the last layer of that network with a layer that maps to the number of classes in your new dataset"
      ]
    },
    {
      "cell_type": "markdown",
      "metadata": {
        "id": "eOtl8z8G9wbr"
      },
      "source": [
        "#### Make your model class"
      ]
    },
    {
      "cell_type": "code",
      "execution_count": null,
      "metadata": {
        "id": "AY-XU4Mwas0j"
      },
      "outputs": [],
      "source": [
        "class ResNetIntel(nn.Module):\n",
        "    def __init__(self, num_classes, start_frozen=False):\n",
        "        super(ResNetIntel, self).__init__()\n",
        "\n",
        "        # Part 1.2\n",
        "        # Load the model - make sure it is pre-trained\n",
        "        self.resnet_model = resnet152(pretrained=True)\n",
        "\n",
        "        # Part 1.4\n",
        "        if start_frozen:\n",
        "            # Turn off all gradients of the resnet\n",
        "            for p in self.resnet_model.parameters():\n",
        "              p.requires_grad = False\n",
        "        \n",
        "        # Part 1.2\n",
        "        # Look at the code of torchvision.models.resnet152 to find the name of the attribute to override (the last layer of the resnet)\n",
        "        # Override the last layer of the neural network to map to the correct number of classes. Note that this new layer has requires_grad = True\n",
        "        # It is called fc\n",
        "        self.resnet_model.fc = nn.Linear(self.resnet_model.fc.in_features, num_classes)\n",
        "        \n",
        "    def unfreeze(self, n_layers):\n",
        "        # Part 1.4\n",
        "        # Turn on gradients for the last n_layers\n",
        "        params = list(self.resnet_model.parameters())\n",
        "        # Do last n_layers, not n_layers onward.\n",
        "        param = params[len(params) - n_layers:]\n",
        "        for p in param:\n",
        "          p.requires_grad = True\n",
        "\n",
        "    def forward(self, x):\n",
        "        # Part 1.2\n",
        "        # Pass x through the resnet\n",
        "        return self.resnet_model(x)"
      ]
    },
    {
      "cell_type": "markdown",
      "metadata": {
        "id": "2Krh0eYy18R9"
      },
      "source": [
        "### 1.3 Read through and run this training loop"
      ]
    },
    {
      "cell_type": "code",
      "execution_count": null,
      "metadata": {
        "id": "yOGrrw2gbIPf"
      },
      "outputs": [],
      "source": [
        "def accuracy(y_hat, y_truth):\n",
        "    \"\"\"Gets average accuracy of a vector of predictions\"\"\"\n",
        "    \n",
        "    preds = torch.argmax(y_hat, dim=1)\n",
        "    acc = torch.mean((preds == y_truth).float())\n",
        "    return acc\n",
        "\n",
        "def evaluate(model, objective, val_loader, device):\n",
        "    \"\"\"Gets average accuracy and loss for the validation set\"\"\"\n",
        "\n",
        "    val_losses = []\n",
        "    val_accs = []\n",
        "    # model.eval() so that batchnorm and dropout work in eval mode\n",
        "    model.eval()\n",
        "    # torch.no_grad() to turn off computation graph creation. This allows for temporal\n",
        "    # and spatial complexity improvements, which allows for larger validation batch \n",
        "    # sizes so it’s recommended\n",
        "    with torch.no_grad():\n",
        "        for x, y_truth in val_loader:\n",
        "\n",
        "            x, y_truth = x.to(device), y_truth.to(device)\n",
        "            y_hat = model(x)\n",
        "            val_loss = objective(y_hat, y_truth)\n",
        "            val_acc = accuracy(y_hat, y_truth)\n",
        "\n",
        "            val_losses.append(val_loss.item())\n",
        "            val_accs.append(val_acc)\n",
        "\n",
        "    model.train()\n",
        "\n",
        "    return torch.mean(torch.Tensor(val_losses)), torch.mean(torch.Tensor(val_accs))"
      ]
    },
    {
      "cell_type": "code",
      "execution_count": null,
      "metadata": {
        "id": "VKESMcKi2E_f"
      },
      "outputs": [],
      "source": [
        "def train(start_frozen=False, model_unfreeze=0):\n",
        "    \"\"\"Fine-tunes a CNN\n",
        "    Args:\n",
        "        start_frozen (bool): whether to start with the network weights frozen.\n",
        "        model_unfreeze (int): the maximum number of network layers to unfreeze\n",
        "    \"\"\"\n",
        "    epochs = 20\n",
        "    # Start with a very low learning rate\n",
        "    lr = .00005\n",
        "    val_every = 3\n",
        "    num_classes = 16\n",
        "    batch_size = 32\n",
        "    device = torch.device('cuda:0')\n",
        "\n",
        "    # Data\n",
        "    train_dataset = IntelDataset(upload=True, train=True)\n",
        "    val_dataset = IntelDataset(upload=True, train=False)\n",
        "    train_loader = DataLoader(train_dataset,\n",
        "                              shuffle=True,\n",
        "                              num_workers=8,\n",
        "                              batch_size=batch_size)\n",
        "    val_loader = DataLoader(val_dataset,\n",
        "                              shuffle=True,\n",
        "                              num_workers=8,\n",
        "                              batch_size=batch_size)\n",
        "    \n",
        "    # Model\n",
        "    model = ResNetIntel(num_classes, start_frozen=start_frozen).to(device)\n",
        "    \n",
        "    # Objective\n",
        "    objective = nn.CrossEntropyLoss()\n",
        "    # Optimizer\n",
        "    optimizer = optim.Adam(model.parameters(), lr=lr, weight_decay=1e-1)\n",
        "\n",
        "    # Progress bar\n",
        "    pbar = tqdm(total=len(train_loader) * epochs)\n",
        "\n",
        "    train_losses = []\n",
        "    train_accs = []\n",
        "    val_losses = []\n",
        "    val_accs = []\n",
        "    \n",
        "    cnt = 0\n",
        "    for epoch in range(epochs):\n",
        "\n",
        "        # Implement model unfreezing\n",
        "        if epoch < model_unfreeze:\n",
        "            # Part 1.4\n",
        "            # Unfreeze the last layers, one more each epoch\n",
        "            model.unfreeze(epoch+1)\n",
        "        \n",
        "        for x, y_truth in train_loader:\n",
        "        \n",
        "            x, y_truth = x.to(device), y_truth.to(device)\n",
        "\n",
        "            optimizer.zero_grad()\n",
        "\n",
        "            y_hat = model(x)\n",
        "            train_loss = objective(y_hat, y_truth)\n",
        "            train_acc = accuracy(y_hat, y_truth)\n",
        "\n",
        "            train_loss.backward()\n",
        "            optimizer.step()\n",
        "\n",
        "            train_accs.append(train_acc.item())\n",
        "            train_losses.append(train_loss.item())\n",
        "\n",
        "            if cnt % val_every == 0:\n",
        "                val_loss, val_acc = evaluate(model, objective, val_loader, device)\n",
        "                val_losses.append(val_loss.item())\n",
        "                val_accs.append(val_acc.item())\n",
        "\n",
        "            pbar.set_description('train loss:{:.4f}, train accuracy:{:.4f}.'.format(train_loss.item(), train_acc))\n",
        "            pbar.update(1)\n",
        "            cnt += 1\n",
        "\n",
        "    pbar.close()\n",
        "    plt.subplot(121)\n",
        "    plt.plot(np.arange(len(train_accs)), train_accs, label='Train Accuracy')\n",
        "    plt.plot(np.arange(len(train_accs), step=val_every), val_accs, label='Val Accuracy')\n",
        "    plt.legend()\n",
        "    plt.subplot(122)\n",
        "    plt.plot(np.arange(len(train_losses)), train_losses, label='Train Loss')\n",
        "    plt.plot(np.arange(len(train_losses), step=val_every), val_losses, label='Val Loss')\n",
        "    plt.legend()\n",
        "    plt.show()  "
      ]
    },
    {
      "cell_type": "code",
      "execution_count": null,
      "metadata": {
        "id": "fvnxeLotchiH",
        "colab": {
          "base_uri": "https://localhost:8080/",
          "height": 336
        },
        "outputId": "86c2bba7-0a57-448c-c9ba-e3b0f886af24"
      },
      "outputs": [
        {
          "output_type": "stream",
          "name": "stderr",
          "text": [
            "/usr/local/lib/python3.7/dist-packages/torch/utils/data/dataloader.py:481: UserWarning: This DataLoader will create 8 worker processes in total. Our suggested max number of worker in current system is 2, which is smaller than what this DataLoader is going to create. Please be aware that excessive worker creation might get DataLoader running slow or even freeze, lower the worker number to avoid potential slowness/freeze if necessary.\n",
            "  cpuset_checked))\n",
            "train loss:0.0097, train accuracy:1.0000.: 100%|██████████| 320/320 [33:03<00:00,  6.20s/it]\n"
          ]
        },
        {
          "output_type": "display_data",
          "data": {
            "image/png": "[encoded data removed]",
            "text/plain": [
              "<Figure size 432x288 with 2 Axes>"
            ]
          },
          "metadata": {
            "needs_background": "light"
          }
        }
      ],
      "source": [
        "train(start_frozen=False, model_unfreeze=8)  "
      ]
    },
    {
      "cell_type": "markdown",
      "metadata": {
        "id": "aEDv_-H7BvM0"
      },
      "source": [
        "### 1.4 Implement Unfreezing (1 hr)"
      ]
    },
    {
      "cell_type": "markdown",
      "metadata": {
        "id": "YH5mQBaa-_0b"
      },
      "source": [
        "#### Description"
      ]
    },
    {
      "cell_type": "markdown",
      "metadata": {
        "id": "u_YmE1pe-6LF"
      },
      "source": [
        "Unfreezing is a technique that can be helpful when fine tuning a CNN for a more difficult task with a large amount of data.\n",
        "\n",
        "The idea is that if we allow the network to tweak the earliest layers immediately, before the last FCL has been trained at all, the earliest layers will forget all of the useful features that they learned in order  to provide features that are helpful for the (untrained) FCL.\n",
        "\n",
        "So, rather than training all of the model weights at once, we learn the last fully connected layer, then train that layer together with the second-to-last layer, gradually adding layers until we reach the first layer."
      ]
    },
    {
      "cell_type": "markdown",
      "metadata": {
        "id": "XMKRI77_-8nc"
      },
      "source": [
        "#### TODO:"
      ]
    },
    {
      "cell_type": "markdown",
      "metadata": {
        "id": "KaUc8BTYC1bz"
      },
      "source": [
        "- Modify your model class by setting the `requires_grad` attribute of the ResNet to `False`. (but keep `requires_grad = True` for the last layer).\n",
        "- Add a member function to you model class that allows the user to unfreeze weights in the training loop. See [this github gist](https://gist.github.com/jcjohnson/6e41e8512c17eae5da50aebef3378a4c) for reference.\n",
        "- Modify your training loop to add logic that calls the `unfreeze` function of the model class (unfreeze one layer every epoch).\n",
        "- Call your train function to fine-tune the ResNet on your dataset."
      ]
    },
    {
      "cell_type": "markdown",
      "metadata": {
        "id": "qBT5jgifC7Im"
      },
      "source": [
        "#### Call your train function"
      ]
    },
    {
      "cell_type": "code",
      "execution_count": null,
      "metadata": {
        "id": "Mg9ySEO_BNDx",
        "colab": {
          "base_uri": "https://localhost:8080/",
          "height": 336
        },
        "outputId": "85fdf808-865b-4781-d1c4-6621d9da4001"
      },
      "outputs": [
        {
          "output_type": "stream",
          "name": "stderr",
          "text": [
            "/usr/local/lib/python3.7/dist-packages/torch/utils/data/dataloader.py:481: UserWarning: This DataLoader will create 8 worker processes in total. Our suggested max number of worker in current system is 2, which is smaller than what this DataLoader is going to create. Please be aware that excessive worker creation might get DataLoader running slow or even freeze, lower the worker number to avoid potential slowness/freeze if necessary.\n",
            "  cpuset_checked))\n",
            "train loss:0.0176, train accuracy:1.0000.: 100%|██████████| 320/320 [25:05<00:00,  4.70s/it]\n"
          ]
        },
        {
          "output_type": "display_data",
          "data": {
            "image/png": "[encoded data removed]",
            "text/plain": [
              "<Figure size 432x288 with 2 Axes>"
            ]
          },
          "metadata": {
            "needs_background": "light"
          }
        }
      ],
      "source": [
        "###############################################################################\n",
        "# train with unfreezing here (should be a single call to your train function) #\n",
        "###############################################################################\n",
        "train(start_frozen=True, model_unfreeze=6)"
      ]
    },
    {
      "cell_type": "markdown",
      "metadata": {
        "id": "ZItH2lX7k4Yt"
      },
      "source": [
        "You may not see any improvement for your classification task, but unfreezing can help convergence for more difficult image classification tasks."
      ]
    },
    {
      "cell_type": "markdown",
      "metadata": {
        "id": "XAXHAUf3EEiE"
      },
      "source": [
        "##2 Fine-tune a language model - (15 min)"
      ]
    },
    {
      "cell_type": "markdown",
      "metadata": {
        "id": "yu9usOxtjFHL"
      },
      "source": [
        "In this section you will use the gpt-2-simple package [here](https://github.com/minimaxir/gpt-2-simple) to fine-tune the GPT-2 language model on a domain of your choice."
      ]
    },
    {
      "cell_type": "markdown",
      "metadata": {
        "id": "_K7F19SPQo6U"
      },
      "source": [
        "### 2.1 Generate text from the pretrained GPT-2 model"
      ]
    },
    {
      "cell_type": "markdown",
      "metadata": {
        "id": "9YLXvK51RnuL"
      },
      "source": [
        "#### Run this code to generate text from a pretrained model"
      ]
    },
    {
      "cell_type": "code",
      "execution_count": null,
      "metadata": {
        "colab": {
          "base_uri": "https://localhost:8080/"
        },
        "id": "WDNOb_H5IRvH",
        "outputId": "091bed54-3275-4e44-f959-c31d0bed6791"
      },
      "outputs": [
        {
          "output_type": "stream",
          "name": "stdout",
          "text": [
            "Requirement already satisfied: gpt-2-simple in /usr/local/lib/python3.7/dist-packages (0.8.1)\n",
            "Requirement already satisfied: toposort in /usr/local/lib/python3.7/dist-packages (from gpt-2-simple) (1.7)\n",
            "Requirement already satisfied: tqdm in /usr/local/lib/python3.7/dist-packages (from gpt-2-simple) (4.62.3)\n",
            "Requirement already satisfied: tensorflow>=2.5.1 in /usr/local/lib/python3.7/dist-packages (from gpt-2-simple) (2.8.0)\n",
            "Requirement already satisfied: regex in /usr/local/lib/python3.7/dist-packages (from gpt-2-simple) (2019.12.20)\n",
            "Requirement already satisfied: numpy in /usr/local/lib/python3.7/dist-packages (from gpt-2-simple) (1.21.5)\n",
            "Requirement already satisfied: requests in /usr/local/lib/python3.7/dist-packages (from gpt-2-simple) (2.23.0)\n",
            "Requirement already satisfied: gast>=0.2.1 in /usr/local/lib/python3.7/dist-packages (from tensorflow>=2.5.1->gpt-2-simple) (0.5.3)\n",
            "Requirement already satisfied: keras<2.9,>=2.8.0rc0 in /usr/local/lib/python3.7/dist-packages (from tensorflow>=2.5.1->gpt-2-simple) (2.8.0)\n",
            "Requirement already satisfied: grpcio<2.0,>=1.24.3 in /usr/local/lib/python3.7/dist-packages (from tensorflow>=2.5.1->gpt-2-simple) (1.44.0)\n",
            "Requirement already satisfied: setuptools in /usr/local/lib/python3.7/dist-packages (from tensorflow>=2.5.1->gpt-2-simple) (57.4.0)\n",
            "Requirement already satisfied: h5py>=2.9.0 in /usr/local/lib/python3.7/dist-packages (from tensorflow>=2.5.1->gpt-2-simple) (3.1.0)\n",
            "Requirement already satisfied: astunparse>=1.6.0 in /usr/local/lib/python3.7/dist-packages (from tensorflow>=2.5.1->gpt-2-simple) (1.6.3)\n",
            "Requirement already satisfied: termcolor>=1.1.0 in /usr/local/lib/python3.7/dist-packages (from tensorflow>=2.5.1->gpt-2-simple) (1.1.0)\n",
            "Requirement already satisfied: wrapt>=1.11.0 in /usr/local/lib/python3.7/dist-packages (from tensorflow>=2.5.1->gpt-2-simple) (1.13.3)\n",
            "Requirement already satisfied: google-pasta>=0.1.1 in /usr/local/lib/python3.7/dist-packages (from tensorflow>=2.5.1->gpt-2-simple) (0.2.0)\n",
            "Requirement already satisfied: flatbuffers>=1.12 in /usr/local/lib/python3.7/dist-packages (from tensorflow>=2.5.1->gpt-2-simple) (2.0)\n",
            "Requirement already satisfied: keras-preprocessing>=1.1.1 in /usr/local/lib/python3.7/dist-packages (from tensorflow>=2.5.1->gpt-2-simple) (1.1.2)\n",
            "Requirement already satisfied: libclang>=9.0.1 in /usr/local/lib/python3.7/dist-packages (from tensorflow>=2.5.1->gpt-2-simple) (13.0.0)\n",
            "Requirement already satisfied: tf-estimator-nightly==2.8.0.dev2021122109 in /usr/local/lib/python3.7/dist-packages (from tensorflow>=2.5.1->gpt-2-simple) (2.8.0.dev2021122109)\n",
            "Requirement already satisfied: absl-py>=0.4.0 in /usr/local/lib/python3.7/dist-packages (from tensorflow>=2.5.1->gpt-2-simple) (1.0.0)\n",
            "Requirement already satisfied: opt-einsum>=2.3.2 in /usr/local/lib/python3.7/dist-packages (from tensorflow>=2.5.1->gpt-2-simple) (3.3.0)\n",
            "Requirement already satisfied: typing-extensions>=3.6.6 in /usr/local/lib/python3.7/dist-packages (from tensorflow>=2.5.1->gpt-2-simple) (3.10.0.2)\n",
            "Requirement already satisfied: protobuf>=3.9.2 in /usr/local/lib/python3.7/dist-packages (from tensorflow>=2.5.1->gpt-2-simple) (3.17.3)\n",
            "Requirement already satisfied: tensorflow-io-gcs-filesystem>=0.23.1 in /usr/local/lib/python3.7/dist-packages (from tensorflow>=2.5.1->gpt-2-simple) (0.24.0)\n",
            "Requirement already satisfied: six>=1.12.0 in /usr/local/lib/python3.7/dist-packages (from tensorflow>=2.5.1->gpt-2-simple) (1.15.0)\n",
            "Requirement already satisfied: tensorboard<2.9,>=2.8 in /usr/local/lib/python3.7/dist-packages (from tensorflow>=2.5.1->gpt-2-simple) (2.8.0)\n",
            "Requirement already satisfied: wheel<1.0,>=0.23.0 in /usr/local/lib/python3.7/dist-packages (from astunparse>=1.6.0->tensorflow>=2.5.1->gpt-2-simple) (0.37.1)\n",
            "Requirement already satisfied: cached-property in /usr/local/lib/python3.7/dist-packages (from h5py>=2.9.0->tensorflow>=2.5.1->gpt-2-simple) (1.5.2)\n",
            "Requirement already satisfied: markdown>=2.6.8 in /usr/local/lib/python3.7/dist-packages (from tensorboard<2.9,>=2.8->tensorflow>=2.5.1->gpt-2-simple) (3.3.6)\n",
            "Requirement already satisfied: google-auth-oauthlib<0.5,>=0.4.1 in /usr/local/lib/python3.7/dist-packages (from tensorboard<2.9,>=2.8->tensorflow>=2.5.1->gpt-2-simple) (0.4.6)\n",
            "Requirement already satisfied: google-auth<3,>=1.6.3 in /usr/local/lib/python3.7/dist-packages (from tensorboard<2.9,>=2.8->tensorflow>=2.5.1->gpt-2-simple) (1.35.0)\n",
            "Requirement already satisfied: werkzeug>=0.11.15 in /usr/local/lib/python3.7/dist-packages (from tensorboard<2.9,>=2.8->tensorflow>=2.5.1->gpt-2-simple) (1.0.1)\n",
            "Requirement already satisfied: tensorboard-data-server<0.7.0,>=0.6.0 in /usr/local/lib/python3.7/dist-packages (from tensorboard<2.9,>=2.8->tensorflow>=2.5.1->gpt-2-simple) (0.6.1)\n",
            "Requirement already satisfied: tensorboard-plugin-wit>=1.6.0 in /usr/local/lib/python3.7/dist-packages (from tensorboard<2.9,>=2.8->tensorflow>=2.5.1->gpt-2-simple) (1.8.1)\n",
            "Requirement already satisfied: rsa<5,>=3.1.4 in /usr/local/lib/python3.7/dist-packages (from google-auth<3,>=1.6.3->tensorboard<2.9,>=2.8->tensorflow>=2.5.1->gpt-2-simple) (4.8)\n",
            "Requirement already satisfied: cachetools<5.0,>=2.0.0 in /usr/local/lib/python3.7/dist-packages (from google-auth<3,>=1.6.3->tensorboard<2.9,>=2.8->tensorflow>=2.5.1->gpt-2-simple) (4.2.4)\n",
            "Requirement already satisfied: pyasn1-modules>=0.2.1 in /usr/local/lib/python3.7/dist-packages (from google-auth<3,>=1.6.3->tensorboard<2.9,>=2.8->tensorflow>=2.5.1->gpt-2-simple) (0.2.8)\n",
            "Requirement already satisfied: requests-oauthlib>=0.7.0 in /usr/local/lib/python3.7/dist-packages (from google-auth-oauthlib<0.5,>=0.4.1->tensorboard<2.9,>=2.8->tensorflow>=2.5.1->gpt-2-simple) (1.3.1)\n",
            "Requirement already satisfied: importlib-metadata>=4.4 in /usr/local/lib/python3.7/dist-packages (from markdown>=2.6.8->tensorboard<2.9,>=2.8->tensorflow>=2.5.1->gpt-2-simple) (4.11.1)\n",
            "Requirement already satisfied: zipp>=0.5 in /usr/local/lib/python3.7/dist-packages (from importlib-metadata>=4.4->markdown>=2.6.8->tensorboard<2.9,>=2.8->tensorflow>=2.5.1->gpt-2-simple) (3.7.0)\n",
            "Requirement already satisfied: pyasn1<0.5.0,>=0.4.6 in /usr/local/lib/python3.7/dist-packages (from pyasn1-modules>=0.2.1->google-auth<3,>=1.6.3->tensorboard<2.9,>=2.8->tensorflow>=2.5.1->gpt-2-simple) (0.4.8)\n",
            "Requirement already satisfied: certifi>=2017.4.17 in /usr/local/lib/python3.7/dist-packages (from requests->gpt-2-simple) (2021.10.8)\n",
            "Requirement already satisfied: urllib3!=1.25.0,!=1.25.1,<1.26,>=1.21.1 in /usr/local/lib/python3.7/dist-packages (from requests->gpt-2-simple) (1.24.3)\n",
            "Requirement already satisfied: chardet<4,>=3.0.2 in /usr/local/lib/python3.7/dist-packages (from requests->gpt-2-simple) (3.0.4)\n",
            "Requirement already satisfied: idna<3,>=2.5 in /usr/local/lib/python3.7/dist-packages (from requests->gpt-2-simple) (2.10)\n",
            "Requirement already satisfied: oauthlib>=3.0.0 in /usr/local/lib/python3.7/dist-packages (from requests-oauthlib>=0.7.0->google-auth-oauthlib<0.5,>=0.4.1->tensorboard<2.9,>=2.8->tensorflow>=2.5.1->gpt-2-simple) (3.2.0)\n",
            "TensorFlow 1.x selected.\n",
            "WARNING:tensorflow:\n",
            "The TensorFlow contrib module will not be included in TensorFlow 2.0.\n",
            "For more information, please see:\n",
            "  * https://github.com/tensorflow/community/blob/master/rfcs/20180907-contrib-sunset.md\n",
            "  * https://github.com/tensorflow/addons\n",
            "  * https://github.com/tensorflow/io (for I/O related ops)\n",
            "If you depend on functionality not listed there, please file an issue.\n",
            "\n"
          ]
        }
      ],
      "source": [
        "!pip install gpt-2-simple\n",
        "\n",
        "# the transformers package is built on top of Tensorflow, and the default TF version \n",
        "# for Colab will soon switch to 2.x. We remedy this with the following magic method\n",
        "%tensorflow_version 1.x \n",
        "\n",
        "import gpt_2_simple as gpt2\n",
        "import os\n",
        "import tensorflow as tf"
      ]
    },
    {
      "cell_type": "code",
      "execution_count": null,
      "metadata": {
        "colab": {
          "base_uri": "https://localhost:8080/"
        },
        "id": "6aRJ-c9uRMOa",
        "outputId": "2a9fa36a-82a7-40fa-a5d9-601cc5abff45"
      },
      "outputs": [
        {
          "output_type": "stream",
          "name": "stdout",
          "text": [
            "Loading pretrained model models/124M/model.ckpt\n",
            "INFO:tensorflow:Restoring parameters from models/124M/model.ckpt\n",
            "I tried to do my bit to help him with the situation, and then I realized he gave me a few more minutes to figure something out. I decided to show him the full team sitting side by side and the one who is in this chat (I think) is likely to be his dad.\n",
            "\n",
            "I also made sure he was aware of my actions. I think he's a little bit more fluid than I thought. I know he isn't the type to take things personally and that he doesn't know what to do. He is just that kind of guy that is nice to talk to and explain to and say good bye.\n",
            "\n",
            "Speaking of Good bye, I'm going to be able to do some other stuff and help him out a bit. I need to get into some more of my talking to him more, because he's needed a lot of time. I know he's the kind of guy that will be helped by someone. I could do a lot of community event on my own, but I have to do it the right way. I just need to be able to help him out a bit.\n",
            "\n",
            "I think we were just having a good time. I don't know how to describe it, but Good bye to everyone.\n",
            "\n",
            "I'm going to start the game with him and try to keep him on the field with me. I want him to be a big day player. I'm going to try to get him to have a good day. I think he's going to get a lot of hits and he's going to run out of time.\n",
            "\n",
            "I can play with him, I can run him up, I can run him down and I can get him to run. I can run him through a tough situation. I know there will be some negative consequences if I'm not able to play the right way. I know that I can hurt him and that's why I'm doing this.\n",
            "\n",
            "Good bye to all the community. I'm going to give him a great day. It's been a good day for him.<|endoftext|>Cease and desist from using the FOG or FOGS.\n",
            "\n",
            "The FOGS is the largest and most powerful FOG synth to date.\n",
            "\n",
            "FOGS is a custom built FOG synth with a 6-axis single-axis oscillator.\n",
            "\n",
            "The FOGS is a bolt-on, built to order, FOGS-exclusive, and open source FOG synth.\n",
            "\n",
            "The FOGS is available in three versions:\n",
            "\n",
            "Classic FOG synth with 12.5\" FOG input (12.5mm in circumference)\n",
            "\n",
            "FOG-FOG-PERF synth with 16\" FOG input (16mm in circumference)\n",
            "\n",
            "Classic FOG synth with 16\" FOG input (16mm in circumference)\n",
            "\n",
            "FOG-FOG-PERF synth with 16\" FOG input (16mm in circumference)\n",
            "\n",
            "Simple FOG synth with built-in FOG-PWM control (32\" FOG input, 24\" FOG output)\n",
            "\n",
            "FOG-FOG-PERF synth with 16\" FOG input (16mm in circumference)\n",
            "\n",
            "Final FOG synth (the original)\n",
            "\n",
            "FOG-FOG-PERF synth with 16\" FOG input (16mm in circumference)\n",
            "\n",
            "FOG-FOG-PERF synth with 16\" FOG input (16mm in circumference)\n",
            "\n",
            "FOG-FOG-PERF synth with 16\" FOG input (16mm in circumference)\n",
            "\n",
            "FOG-FOG-PERF synth with 16\" FOG input (16mm in circumference)\n",
            "\n",
            "FOG-FOG-PERF synth with 16\" FOG input (16mm in circumference)\n",
            "\n",
            "FOG-FOG-PERF synth with 16\" FOG input (16mm in circumference)\n",
            "\n",
            "FOG-FOG-PERF synth with 16\" FOG input (16mm in circumference)\n",
            "\n",
            "FOG-FOG-PERF synth with 16\" FOG input (16mm in circumference)\n",
            "\n",
            "FOG-FOG-PERF synth with 16\" FOG input (16mm in circumference)\n",
            "\n",
            "FOG-FOG-PERF synth with 16\" FOG input (16mm in circumference)\n",
            "\n",
            "FOG-FOG-PERF synth with 16\" FOG input (16mm in circumference)\n",
            "\n",
            "FOG-FOG-PERF synth with 16\" FOG input (16mm in circumference)\n",
            "\n",
            "FOG-FOG-PERF synth with 16\" FOG input (16mm in circumference)\n",
            "\n",
            "FOG-FOG-PERF synth with 16\" FOG input (16mm in circumference)\n",
            "\n",
            "FOG-FOG-PERF synth with 16\" FOG input (16mm in circumference)\n",
            "\n",
            "FOG-FOG-PERF synth with\n"
          ]
        }
      ],
      "source": [
        "# This line is necessary to be able to run a new tf session\n",
        "tf.reset_default_graph()\n",
        "# The medium-sized model. IF you run out of memory, try \"124M\" instead\n",
        "model_name = \"124M\"\n",
        "if not os.path.isdir(os.path.join(\"models\", model_name)):\n",
        "\tprint(f\"Downloading {model_name} model...\")\n",
        "\tgpt2.download_gpt2(model_name=model_name)   # model is saved into current directory under /models/124M/\n",
        "\n",
        "sess = gpt2.start_tf_sess()\n",
        "gpt2.load_gpt2(sess, model_name=model_name)\n",
        "gpt2.generate(sess, model_name=model_name)"
      ]
    },
    {
      "cell_type": "markdown",
      "metadata": {
        "id": "AHmjSVf_FNHv"
      },
      "source": [
        "### 2.2 Download a text dataset"
      ]
    },
    {
      "cell_type": "markdown",
      "metadata": {
        "id": "gPXJkNubFyY6"
      },
      "source": [
        "#### TODO:"
      ]
    },
    {
      "cell_type": "markdown",
      "metadata": {
        "id": "KWkuRjbcFzwb"
      },
      "source": [
        "- Use the provided functions to download your own text dataset\n",
        "- [Project Gutenberg](https://www.gutenberg.org/) is a nice starting point for raw text corpora"
      ]
    },
    {
      "cell_type": "markdown",
      "metadata": {
        "id": "iD45m3IwF9hh"
      },
      "source": [
        "#### Download Dataset"
      ]
    },
    {
      "cell_type": "code",
      "execution_count": null,
      "metadata": {
        "colab": {
          "base_uri": "https://localhost:8080/"
        },
        "id": "ESltl2QM5nxw",
        "outputId": "865d6b14-cb4e-48bc-9f79-53b78c04a0c0"
      },
      "outputs": [
        {
          "output_type": "stream",
          "name": "stdout",
          "text": [
            "mv: cannot stat '/data/text/996-0.txt': No such file or directory\n",
            "996-h\n"
          ]
        }
      ],
      "source": [
        "import zipfile\n",
        "import os\n",
        "from torchvision import datasets\n",
        "\n",
        "def extract_zip(zip_path, remove_finished=True):\n",
        "    print('Extracting {}'.format(zip_path))\n",
        "    with zipfile.ZipFile(zip_path, 'r') as zip_ref:\n",
        "        zip_ref.extractall(zip_path.replace('.zip', ''))\n",
        "    if remove_finished:\n",
        "        os.remove(zip_path)\n",
        "\n",
        "def download_dataset(url, root='../data'):\n",
        "    if not os.path.exists(os.path.join(root, 'text')):\n",
        "        os.makedirs(os.path.join(root))\n",
        "        datasets.utils.download_url(url, root, 'text.zip', None)\n",
        "        extract_zip(os.path.join(root, 'text.zip'))\n",
        "    return os.path.join(root, 'text')\n",
        "\n",
        "##########################################\n",
        "# Set the url for your dataset here,\n",
        "# move the dataset to the desired location\n",
        "##########################################\n",
        "#url = 'https://www.gutenberg.org/files/30/30.zip'\n",
        "url = 'https://www.gutenberg.org/files/996/996-0.zip'\n",
        "download_dataset(url)\n",
        "!mv /data/text/996-0.txt /data/text/donq.txt\n",
        "!ls ../data/text"
      ]
    },
    {
      "cell_type": "code",
      "source": [
        "!wget 'https://www.gutenberg.org/files/996/996-0.txt'"
      ],
      "metadata": {
        "colab": {
          "base_uri": "https://localhost:8080/"
        },
        "id": "S6-sZKsNgAMV",
        "outputId": "3ca6f3a7-59c2-4fc1-dbc0-f24a4b023517"
      },
      "execution_count": null,
      "outputs": [
        {
          "output_type": "stream",
          "name": "stdout",
          "text": [
            "--2022-03-01 22:01:14--  https://www.gutenberg.org/files/996/996-0.txt\n",
            "Resolving www.gutenberg.org (www.gutenberg.org)... 152.19.134.47, 2610:28:3090:3000:0:bad:cafe:47\n",
            "Connecting to www.gutenberg.org (www.gutenberg.org)|152.19.134.47|:443... connected.\n",
            "HTTP request sent, awaiting response... 200 OK\n",
            "Length: 2391541 (2.3M) [text/plain]\n",
            "Saving to: ‘996-0.txt’\n",
            "\n",
            "996-0.txt           100%[===================>]   2.28M  1.75MB/s    in 1.3s    \n",
            "\n",
            "2022-03-01 22:01:16 (1.75 MB/s) - ‘996-0.txt’ saved [2391541/2391541]\n",
            "\n"
          ]
        }
      ]
    },
    {
      "cell_type": "markdown",
      "metadata": {
        "id": "usQE-rSPZq_X"
      },
      "source": [
        "### 2.3 Fine-tune GPT-2 on your own dataset"
      ]
    },
    {
      "cell_type": "markdown",
      "metadata": {
        "id": "IoA0tZZCa_1k"
      },
      "source": [
        "#### TODO:"
      ]
    },
    {
      "cell_type": "markdown",
      "metadata": {
        "id": "OoU6ML1mbgjP"
      },
      "source": [
        "- Swap out the dataset parameter with the path to your dataset"
      ]
    },
    {
      "cell_type": "markdown",
      "metadata": {
        "id": "8pa5vFJ5EUjv"
      },
      "source": [
        "#### Train on your dataset"
      ]
    },
    {
      "cell_type": "code",
      "execution_count": null,
      "metadata": {
        "colab": {
          "base_uri": "https://localhost:8080/"
        },
        "id": "WuQ5snl4LuS0",
        "outputId": "d2325ba7-a658-40bc-ad5c-35cc0f34c664"
      },
      "outputs": [
        {
          "output_type": "stream",
          "name": "stdout",
          "text": [
            "WARNING:tensorflow:From /usr/local/lib/python3.7/dist-packages/gpt_2_simple/src/sample.py:17: where (from tensorflow.python.ops.array_ops) is deprecated and will be removed in a future version.\n",
            "Instructions for updating:\n",
            "Use tf.where in 2.0, which has the same broadcast rule as np.where\n",
            "Loading checkpoint models/124M/model.ckpt\n",
            "INFO:tensorflow:Restoring parameters from models/124M/model.ckpt\n",
            "Loading dataset...\n"
          ]
        },
        {
          "output_type": "stream",
          "name": "stderr",
          "text": [
            "100%|██████████| 1/1 [00:03<00:00,  3.82s/it]\n"
          ]
        },
        {
          "output_type": "stream",
          "name": "stdout",
          "text": [
            "dataset has 621198 tokens\n",
            "Training...\n",
            "[1 | 12.18] loss=3.66 avg=3.66\n",
            "[2 | 16.88] loss=3.55 avg=3.60\n",
            "[3 | 21.56] loss=3.38 avg=3.53\n",
            "[4 | 26.24] loss=3.55 avg=3.53\n",
            "[5 | 30.91] loss=3.38 avg=3.50\n",
            "[6 | 35.58] loss=3.57 avg=3.51\n",
            "[7 | 40.25] loss=3.46 avg=3.51\n",
            "[8 | 44.94] loss=3.40 avg=3.49\n",
            "[9 | 49.62] loss=3.27 avg=3.47\n",
            "[10 | 54.33] loss=3.34 avg=3.45\n",
            "[11 | 59.02] loss=3.28 avg=3.44\n",
            "[12 | 63.76] loss=3.38 avg=3.43\n",
            "[13 | 68.47] loss=3.25 avg=3.42\n",
            "[14 | 73.17] loss=3.27 avg=3.41\n",
            "[15 | 77.89] loss=3.37 avg=3.40\n",
            "[16 | 82.60] loss=3.19 avg=3.39\n",
            "[17 | 87.34] loss=3.21 avg=3.38\n",
            "[18 | 92.05] loss=3.20 avg=3.37\n",
            "[19 | 96.77] loss=3.33 avg=3.36\n",
            "[20 | 101.48] loss=3.37 avg=3.37\n",
            "[21 | 106.21] loss=3.07 avg=3.35\n",
            "[22 | 110.93] loss=2.97 avg=3.33\n",
            "[23 | 115.64] loss=3.16 avg=3.32\n",
            "[24 | 120.37] loss=3.27 avg=3.32\n",
            "[25 | 125.07] loss=3.06 avg=3.31\n",
            "[26 | 129.77] loss=3.19 avg=3.30\n",
            "[27 | 134.48] loss=3.12 avg=3.30\n",
            "[28 | 139.19] loss=3.28 avg=3.29\n",
            "[29 | 143.91] loss=3.05 avg=3.29\n",
            "[30 | 148.63] loss=3.11 avg=3.28\n",
            "[31 | 153.35] loss=3.05 avg=3.27\n",
            "[32 | 158.05] loss=3.09 avg=3.26\n",
            "[33 | 162.77] loss=2.93 avg=3.25\n",
            "[34 | 167.49] loss=3.14 avg=3.25\n",
            "[35 | 172.20] loss=3.34 avg=3.25\n",
            "[36 | 176.91] loss=3.12 avg=3.25\n",
            "[37 | 181.61] loss=3.11 avg=3.24\n",
            "[38 | 186.33] loss=3.11 avg=3.24\n",
            "[39 | 191.04] loss=3.22 avg=3.24\n",
            "[40 | 195.74] loss=3.12 avg=3.23\n",
            "[41 | 200.45] loss=3.13 avg=3.23\n",
            "[42 | 205.18] loss=3.12 avg=3.23\n",
            "[43 | 209.86] loss=3.09 avg=3.22\n",
            "[44 | 214.58] loss=3.12 avg=3.22\n",
            "[45 | 219.28] loss=3.16 avg=3.22\n",
            "[46 | 223.99] loss=3.19 avg=3.22\n",
            "[47 | 228.70] loss=3.17 avg=3.22\n",
            "[48 | 233.42] loss=3.07 avg=3.21\n",
            "[49 | 238.14] loss=2.91 avg=3.21\n",
            "[50 | 242.87] loss=3.11 avg=3.20\n",
            "[51 | 247.59] loss=2.98 avg=3.20\n",
            "[52 | 252.30] loss=2.85 avg=3.19\n",
            "[53 | 257.01] loss=2.98 avg=3.18\n",
            "[54 | 261.72] loss=3.05 avg=3.18\n",
            "[55 | 266.44] loss=2.85 avg=3.17\n",
            "[56 | 271.13] loss=2.94 avg=3.17\n",
            "[57 | 275.85] loss=2.73 avg=3.16\n",
            "[58 | 280.56] loss=3.03 avg=3.15\n",
            "[59 | 285.26] loss=2.83 avg=3.15\n",
            "[60 | 289.96] loss=3.00 avg=3.14\n",
            "[61 | 294.67] loss=2.89 avg=3.14\n",
            "[62 | 299.39] loss=2.97 avg=3.14\n",
            "[63 | 304.11] loss=2.95 avg=3.13\n",
            "[64 | 308.83] loss=2.92 avg=3.13\n",
            "[65 | 313.55] loss=3.01 avg=3.12\n",
            "[66 | 318.26] loss=3.03 avg=3.12\n",
            "[67 | 322.98] loss=2.92 avg=3.12\n",
            "[68 | 327.69] loss=2.93 avg=3.11\n",
            "[69 | 332.40] loss=2.94 avg=3.11\n",
            "[70 | 337.09] loss=3.05 avg=3.11\n",
            "[71 | 341.82] loss=3.06 avg=3.11\n",
            "[72 | 346.53] loss=3.01 avg=3.11\n",
            "[73 | 351.26] loss=3.10 avg=3.11\n",
            "[74 | 355.96] loss=3.00 avg=3.10\n",
            "[75 | 360.67] loss=2.88 avg=3.10\n",
            "[76 | 365.39] loss=2.86 avg=3.10\n",
            "[77 | 370.08] loss=3.01 avg=3.09\n",
            "[78 | 374.80] loss=3.04 avg=3.09\n",
            "[79 | 379.52] loss=2.98 avg=3.09\n",
            "[80 | 384.22] loss=2.88 avg=3.09\n",
            "[81 | 388.92] loss=2.88 avg=3.08\n",
            "[82 | 393.64] loss=3.05 avg=3.08\n",
            "[83 | 398.34] loss=2.86 avg=3.08\n",
            "[84 | 403.04] loss=2.94 avg=3.08\n",
            "[85 | 407.74] loss=2.92 avg=3.07\n",
            "[86 | 412.43] loss=2.82 avg=3.07\n",
            "[87 | 417.12] loss=2.90 avg=3.07\n",
            "[88 | 421.83] loss=3.09 avg=3.07\n",
            "[89 | 426.55] loss=3.04 avg=3.07\n",
            "[90 | 431.26] loss=3.21 avg=3.07\n",
            "[91 | 435.94] loss=2.75 avg=3.06\n",
            "[92 | 440.63] loss=2.70 avg=3.06\n",
            "[93 | 445.34] loss=2.91 avg=3.06\n",
            "[94 | 450.05] loss=3.18 avg=3.06\n",
            "[95 | 454.75] loss=2.92 avg=3.05\n",
            "[96 | 459.43] loss=2.91 avg=3.05\n",
            "[97 | 464.13] loss=2.71 avg=3.05\n",
            "[98 | 468.83] loss=2.98 avg=3.05\n",
            "[99 | 473.53] loss=2.98 avg=3.05\n",
            "[100 | 478.24] loss=2.87 avg=3.04\n",
            "======== SAMPLE 1 ========\n",
            " out of his head was like a mountain falling upon the trees; and it struck me, therefore, that when all was thus arranged, he who would have been right was, that he who did not observe the end was only wrong, but that it was the fault of the duke that had done what he ought to have done; and so after this a good many letters passed between us, which led to some confusion and confusion; for I never saw in my own life a person with so much of a temper, if he were a man of any other age, than one of the greatest poets in the world.\n",
            "\n",
            "On the end of these letters the duke asked Sancho to call us all and take the oath, and we could not do so, and so he told us all was done before it reached us; but by saying that what he ought to have said would be said by our duke, he came to the conclusion he needed to say no more: and while we were listening for the result of the oaths, and that we heard from his friend that he had received the oath, the baying ceased, and there we stood, saying,\n",
            "As this was for the oath, I did not take it. The duchess looked him in the eye, and said, “Well then, Sancho, for the good part of two quarters a day do nothing; nor is it advisable to do any other than what a man who has taken these oaths has said; but if the duchess should take a look for the day or night, it would seem to you that I do not care to do anything else, for with what I have told you I may take your word that I am bound by the honour they have bestowed upon me and the promises they make me.” As it happened, the duke came out of the chamber, and he had been in a great hurry, but the duchess asked who I was. She said it was the duke of the island of Marilis; I replied, “The duke of Marilis, or, if you like, he who is to be king of this island.”\n",
            "\n",
            "“All the same,” said she; “then you must say whether I am Sancho Maritornes, or if I am not, which will be the first question, and I will say no more than that I am a Knight of the Round Table, a Knight of the Round Table, and therefore a free man; henceforth, let it as to these two things be that they are, that they are of the Round Table and not of the Parleyage.”\n",
            "\n",
            "“Well then,” said the duchess, “how can he be an enemy, or a friend, or friend of knights-errant or of the Round Table, to whom a certain knight-errant, which we have here, might come out and set himself on the spot?”\n",
            "\n",
            "“He cannot be an enemy,” thought Sancho, since he might go on to say: “and I cannot give any answer to him, but only I promise I will take the oath of my life.” After this he said to his friend, “Thou wilt be on the point of taking an oath; though I know he may be ignorant of the things that are to be offered.’\n",
            "\n",
            "“Then let the knight-errant answer himself,’” said he, and leaving the house he went at half-past two p.m., leaving himself off to be alone.\n",
            "\n",
            "The next morning the duchess came to the conclusion that all of the letters which had been put before us had been given to the duke of the island, and that at the end of the day Sancho would have had no time to leave the house, and he left the duchess and all present with a very good hope that this letter which was given from the duke of the island was indeed the letter promised to keep the government from being taken by force under duress or by any means; for the duke that is the duchess of the island must know the letter and make a resolution to let it be signed from the heart to the hand; the duchess may make it and take it out, for her is all that she is.”\n",
            "\n",
            "\n",
            "\n",
            "p65e.jpg (261K)\n",
            "\n",
            "\n",
            "\n",
            "CHAPTER XXI.\n",
            "OF OUR BODIES DELIVERING OUR LETTERS TO THE GREAT KNIGHT TOGETHER WITH THE BOOKS\n",
            "\n",
            "\n",
            "\n",
            "\n",
            "p66a.jpg (285K)\n",
            "\n",
            "Full Size\n",
            "\n",
            "\n",
            "\n",
            "\n",
            "That night he came home, on the very same day, and the duke gave us the letter that had just come us, and having read it, he told us he had never read it in his life, and he might have written it\n",
            "\n",
            "[101 | 500.75] loss=2.96 avg=3.04\n",
            "[102 | 505.46] loss=2.86 avg=3.04\n",
            "[103 | 510.17] loss=2.98 avg=3.04\n",
            "[104 | 514.87] loss=2.85 avg=3.03\n",
            "[105 | 519.58] loss=2.81 avg=3.03\n",
            "[106 | 524.27] loss=2.98 avg=3.03\n",
            "[107 | 528.96] loss=2.99 avg=3.03\n",
            "[108 | 533.66] loss=3.07 avg=3.03\n",
            "[109 | 538.34] loss=2.77 avg=3.03\n",
            "[110 | 543.04] loss=2.98 avg=3.03\n",
            "[111 | 547.75] loss=2.70 avg=3.02\n",
            "[112 | 552.45] loss=2.93 avg=3.02\n",
            "[113 | 557.15] loss=2.85 avg=3.02\n",
            "[114 | 561.86] loss=3.12 avg=3.02\n",
            "[115 | 566.57] loss=2.91 avg=3.02\n",
            "[116 | 571.26] loss=2.76 avg=3.01\n",
            "[117 | 575.97] loss=2.75 avg=3.01\n",
            "[118 | 580.67] loss=2.99 avg=3.01\n",
            "[119 | 585.37] loss=2.73 avg=3.01\n",
            "[120 | 590.08] loss=2.90 avg=3.00\n",
            "[121 | 594.78] loss=2.72 avg=3.00\n",
            "[122 | 599.49] loss=2.87 avg=3.00\n",
            "[123 | 604.18] loss=3.07 avg=3.00\n",
            "[124 | 608.87] loss=2.86 avg=3.00\n",
            "[125 | 613.60] loss=2.67 avg=2.99\n",
            "[126 | 618.28] loss=2.74 avg=2.99\n",
            "[127 | 622.98] loss=2.99 avg=2.99\n",
            "[128 | 627.70] loss=3.03 avg=2.99\n",
            "[129 | 632.39] loss=2.75 avg=2.99\n",
            "[130 | 637.07] loss=2.91 avg=2.98\n",
            "[131 | 641.78] loss=2.75 avg=2.98\n",
            "[132 | 646.48] loss=2.72 avg=2.98\n",
            "[133 | 651.15] loss=2.85 avg=2.98\n",
            "[134 | 655.85] loss=2.68 avg=2.97\n",
            "[135 | 660.55] loss=3.04 avg=2.97\n",
            "[136 | 665.25] loss=3.00 avg=2.97\n",
            "[137 | 669.94] loss=2.99 avg=2.97\n",
            "[138 | 674.64] loss=2.59 avg=2.97\n",
            "[139 | 679.33] loss=3.11 avg=2.97\n",
            "[140 | 684.04] loss=2.85 avg=2.97\n",
            "[141 | 688.74] loss=2.89 avg=2.97\n",
            "[142 | 693.46] loss=2.82 avg=2.97\n",
            "[143 | 698.16] loss=2.82 avg=2.96\n",
            "[144 | 702.85] loss=2.98 avg=2.96\n",
            "[145 | 707.55] loss=2.86 avg=2.96\n",
            "[146 | 712.25] loss=2.92 avg=2.96\n",
            "[147 | 716.94] loss=2.64 avg=2.96\n",
            "[148 | 721.63] loss=2.87 avg=2.96\n",
            "[149 | 726.34] loss=2.78 avg=2.95\n",
            "[150 | 731.03] loss=2.81 avg=2.95\n",
            "[151 | 735.72] loss=2.66 avg=2.95\n",
            "[152 | 740.41] loss=2.60 avg=2.94\n",
            "[153 | 745.11] loss=2.69 avg=2.94\n",
            "[154 | 749.81] loss=2.66 avg=2.94\n",
            "[155 | 754.52] loss=2.76 avg=2.94\n",
            "[156 | 759.21] loss=2.75 avg=2.93\n",
            "[157 | 763.89] loss=2.89 avg=2.93\n",
            "[158 | 768.56] loss=2.95 avg=2.93\n",
            "[159 | 773.24] loss=2.77 avg=2.93\n",
            "[160 | 777.93] loss=2.82 avg=2.93\n",
            "[161 | 782.62] loss=3.09 avg=2.93\n",
            "[162 | 787.30] loss=2.76 avg=2.93\n",
            "[163 | 791.98] loss=2.76 avg=2.93\n",
            "[164 | 796.68] loss=2.70 avg=2.92\n",
            "[165 | 801.34] loss=2.68 avg=2.92\n",
            "[166 | 806.02] loss=2.95 avg=2.92\n",
            "[167 | 810.68] loss=2.72 avg=2.92\n",
            "[168 | 815.35] loss=2.79 avg=2.92\n",
            "[169 | 820.02] loss=2.61 avg=2.91\n",
            "[170 | 824.71] loss=2.68 avg=2.91\n",
            "[171 | 829.40] loss=2.79 avg=2.91\n",
            "[172 | 834.07] loss=2.81 avg=2.91\n",
            "[173 | 838.76] loss=2.86 avg=2.91\n",
            "[174 | 843.43] loss=2.79 avg=2.91\n",
            "[175 | 848.09] loss=2.78 avg=2.91\n",
            "[176 | 852.77] loss=2.79 avg=2.90\n",
            "[177 | 857.45] loss=2.92 avg=2.90\n",
            "[178 | 862.12] loss=2.57 avg=2.90\n",
            "[179 | 866.82] loss=2.82 avg=2.90\n",
            "[180 | 871.51] loss=2.69 avg=2.90\n",
            "[181 | 876.19] loss=2.79 avg=2.90\n",
            "[182 | 880.89] loss=2.77 avg=2.89\n",
            "[183 | 885.60] loss=3.20 avg=2.90\n",
            "[184 | 890.28] loss=2.85 avg=2.90\n",
            "[185 | 894.98] loss=3.01 avg=2.90\n",
            "[186 | 899.68] loss=3.08 avg=2.90\n",
            "[187 | 904.36] loss=2.88 avg=2.90\n",
            "[188 | 909.07] loss=2.66 avg=2.90\n",
            "[189 | 913.76] loss=2.40 avg=2.89\n",
            "[190 | 918.48] loss=2.89 avg=2.89\n",
            "[191 | 923.17] loss=2.76 avg=2.89\n",
            "[192 | 927.86] loss=2.75 avg=2.89\n",
            "[193 | 932.55] loss=2.95 avg=2.89\n",
            "[194 | 937.23] loss=3.13 avg=2.89\n",
            "[195 | 941.92] loss=2.65 avg=2.89\n",
            "[196 | 946.60] loss=2.98 avg=2.89\n",
            "[197 | 951.29] loss=2.73 avg=2.89\n",
            "[198 | 955.98] loss=2.96 avg=2.89\n",
            "[199 | 960.66] loss=2.70 avg=2.89\n",
            "[200 | 965.34] loss=2.78 avg=2.89\n",
            "======== SAMPLE 1 ========\n",
            "\n",
            "\n",
            "\n",
            "“A knight, I suppose, and perhaps a governor, and not going\n",
            "to court, or even to town-hall, he should take his turn\n",
            "going by horse, and as to all, go all the way by a mule—a mule he\n",
            "can go, that he won’t turn into another, or one he was never\n",
            "ready to mount; as there’s not a one I doubt they ever found,\n",
            "though he’s on his way there; if he could only see he was dead.”\n",
            "\n",
            "The man was, however, quite the opposite, and in fact with an instant,\n",
            "with the head turned he came trod; however he did not, and on seeing himself\n",
            "satisfied with going, he said to the duke:\n",
            "\n",
            "“I have not so far told the whole story, but if the governor’s\n",
            "conclave or the barber’s barber had found me in prison, I’d tell\n",
            "them who found me my father and my mother; and perhaps they would have\n",
            "not killed me, that I would have put them to flight, if that be\n",
            "true; for, it is all right in my case, and it is mine, whether God\n",
            "makes it out to me, or not; and if it be my fault there was not an\n",
            "accountary knight there, though they did not die; it was my father\n",
            "myself at fault, too, and my mother, but that was the\n",
            "good faith of the whole house; for in the first place the town\n",
            "saved me from the galleys, and I am bound to follow the law and\n",
            "the rules of knight-errantry, and at the end of fourteen days go\n",
            "thou wert free; and in other things, I shall not meddle with\n",
            "my neighbours’ names, and I shall be the lord and queen of my\n",
            "land.”\n",
            "\n",
            "“But that’s far from the truth,” said the barber; “you may not do\n",
            "anything in prison that would go over well with the court; you may\n",
            "go back to court all the time and pay the dues, and as to this the\n",
            "judge will find me and take good heed of myself and the whole household;\n",
            "“give me a couple of weeks to pay you.”\n",
            "\n",
            "So saying, the judge let go the duke and entered the yard, which was\n",
            "completely empty, and there were many who entered through a window, as\n",
            "they did as the landlord had done to the others in the yard, which seemed very\n",
            "to them so; and as a matter of fact, the officers of the court, who\n",
            "were all present, having never seen the yard before, had it not been\n",
            "thanked with the cries they said it was full of, and with all\n",
            "the bells of the yard full; who could have heard them?\n",
            "\n",
            "The landlord came running out in a loud voice on foot and on horseback,\n",
            "whom the Judge brought into the yard.\n",
            "\n",
            "“Here,” said the judge, “you have already told me my master is gone;\n",
            "and you cannot find him in his own yard?\n",
            "Look, here is the yard of your honour, not from your master’s house,\n",
            "but from another; and look at what the barber found there. He has\n",
            "found, I say, the door, and the window, and a piece of brass with\n",
            "carved on it; see now, master, the walls come with the hinges or\n",
            "locks; look at the windows—that’s the yard,” said the barber,\n",
            "and in all directions that were visible to him, putting all his efforts\n",
            "into finding him, he said he had found—an impossible thing, no? and the\n",
            "Judge, seeing how he was getting round to it, was a bit of a\n",
            "liver-head out of him, and had no intention of putting him to flight again;\n",
            "and so, seeing all was done with nothing but the master and landlord again\n",
            "going, having seen the yard they came out again, seeing the whole\n",
            "yard full of knights, and not a single one not having an accountary at\n",
            "the door. And so—\n",
            "in a few words—there’s nothing left to hear, and they come\n",
            "off with no accountary but a half-pale wench, where no knight\n",
            "ever stood.\n",
            "\n",
            "\n",
            "\n",
            "p33e.jpg (322K)\n",
            "\n",
            "Full Size\n",
            "\n",
            "\n",
            "\n",
            "And a very great number of the knights left, and the landlord was\n",
            "so filled with despair that he went back to the yard, and in a flash, and only\n",
            "half a league in he saw a couple of them get out of their mules and\n",
            "squires and take the whole field\n",
            "\n",
            "[201 | 986.54] loss=2.69 avg=2.88\n",
            "[202 | 991.23] loss=2.64 avg=2.88\n",
            "[203 | 995.93] loss=2.55 avg=2.88\n",
            "[204 | 1000.62] loss=2.56 avg=2.87\n",
            "[205 | 1005.31] loss=2.85 avg=2.87\n",
            "[206 | 1009.99] loss=2.85 avg=2.87\n",
            "[207 | 1014.68] loss=2.74 avg=2.87\n",
            "[208 | 1019.37] loss=2.84 avg=2.87\n",
            "[209 | 1024.09] loss=2.78 avg=2.87\n",
            "[210 | 1028.78] loss=2.76 avg=2.87\n",
            "[211 | 1033.47] loss=2.74 avg=2.87\n",
            "[212 | 1038.14] loss=2.57 avg=2.86\n",
            "[213 | 1042.84] loss=2.88 avg=2.86\n",
            "[214 | 1047.52] loss=2.75 avg=2.86\n",
            "[215 | 1052.22] loss=2.91 avg=2.86\n",
            "[216 | 1056.90] loss=2.61 avg=2.86\n",
            "[217 | 1061.59] loss=2.61 avg=2.86\n",
            "[218 | 1066.28] loss=2.58 avg=2.85\n",
            "[219 | 1070.94] loss=2.68 avg=2.85\n",
            "[220 | 1075.65] loss=2.79 avg=2.85\n",
            "[221 | 1080.34] loss=2.83 avg=2.85\n",
            "[222 | 1085.05] loss=2.72 avg=2.85\n",
            "[223 | 1089.75] loss=2.59 avg=2.85\n",
            "[224 | 1094.44] loss=2.72 avg=2.85\n",
            "[225 | 1099.15] loss=2.38 avg=2.84\n",
            "[226 | 1103.84] loss=2.60 avg=2.84\n",
            "[227 | 1108.53] loss=2.39 avg=2.83\n",
            "[228 | 1113.23] loss=2.59 avg=2.83\n",
            "[229 | 1117.92] loss=2.60 avg=2.83\n",
            "[230 | 1122.62] loss=3.12 avg=2.83\n",
            "[231 | 1127.32] loss=2.71 avg=2.83\n",
            "[232 | 1132.02] loss=2.88 avg=2.83\n",
            "[233 | 1136.71] loss=2.62 avg=2.83\n",
            "[234 | 1141.41] loss=2.69 avg=2.83\n",
            "[235 | 1146.12] loss=2.81 avg=2.83\n",
            "[236 | 1150.81] loss=2.81 avg=2.83\n",
            "[237 | 1155.49] loss=2.73 avg=2.82\n",
            "[238 | 1160.19] loss=2.44 avg=2.82\n",
            "[239 | 1164.88] loss=2.94 avg=2.82\n",
            "[240 | 1169.58] loss=2.56 avg=2.82\n",
            "[241 | 1174.28] loss=2.76 avg=2.82\n",
            "[242 | 1179.00] loss=2.81 avg=2.82\n",
            "[243 | 1183.68] loss=2.62 avg=2.82\n",
            "[244 | 1188.38] loss=2.85 avg=2.82\n",
            "[245 | 1193.08] loss=2.92 avg=2.82\n",
            "[246 | 1197.75] loss=2.92 avg=2.82\n",
            "[247 | 1202.43] loss=2.48 avg=2.81\n",
            "[248 | 1207.11] loss=2.76 avg=2.81\n",
            "[249 | 1211.82] loss=2.57 avg=2.81\n",
            "[250 | 1216.51] loss=2.79 avg=2.81\n",
            "[251 | 1221.22] loss=2.61 avg=2.81\n",
            "[252 | 1225.93] loss=2.73 avg=2.81\n",
            "[253 | 1230.60] loss=2.53 avg=2.81\n",
            "[254 | 1235.29] loss=2.44 avg=2.80\n",
            "[255 | 1239.97] loss=2.56 avg=2.80\n",
            "[256 | 1244.70] loss=2.62 avg=2.80\n",
            "[257 | 1249.40] loss=2.65 avg=2.80\n",
            "[258 | 1254.08] loss=2.35 avg=2.79\n",
            "[259 | 1258.77] loss=2.69 avg=2.79\n",
            "[260 | 1263.46] loss=2.48 avg=2.79\n",
            "[261 | 1268.17] loss=2.70 avg=2.78\n",
            "[262 | 1272.86] loss=2.67 avg=2.78\n",
            "[263 | 1277.53] loss=2.60 avg=2.78\n",
            "[264 | 1282.23] loss=2.53 avg=2.78\n",
            "[265 | 1286.90] loss=2.67 avg=2.78\n",
            "[266 | 1291.58] loss=2.54 avg=2.78\n",
            "[267 | 1296.27] loss=2.57 avg=2.77\n",
            "[268 | 1300.96] loss=2.39 avg=2.77\n",
            "[269 | 1305.65] loss=2.84 avg=2.77\n",
            "[270 | 1310.35] loss=2.66 avg=2.77\n",
            "[271 | 1315.04] loss=2.65 avg=2.77\n",
            "[272 | 1319.72] loss=2.67 avg=2.77\n",
            "[273 | 1324.42] loss=2.80 avg=2.77\n",
            "[274 | 1329.12] loss=2.76 avg=2.77\n",
            "[275 | 1333.79] loss=2.64 avg=2.77\n",
            "[276 | 1338.49] loss=2.37 avg=2.76\n",
            "[277 | 1343.18] loss=2.68 avg=2.76\n",
            "[278 | 1347.87] loss=2.72 avg=2.76\n",
            "[279 | 1352.56] loss=2.55 avg=2.76\n",
            "[280 | 1357.24] loss=2.48 avg=2.75\n",
            "[281 | 1361.91] loss=2.60 avg=2.75\n",
            "[282 | 1366.60] loss=2.64 avg=2.75\n",
            "[283 | 1371.29] loss=2.58 avg=2.75\n",
            "[284 | 1376.01] loss=2.56 avg=2.75\n",
            "[285 | 1380.70] loss=2.47 avg=2.74\n",
            "[286 | 1385.38] loss=2.51 avg=2.74\n",
            "[287 | 1390.07] loss=2.75 avg=2.74\n",
            "[288 | 1394.77] loss=2.31 avg=2.74\n",
            "[289 | 1399.44] loss=2.54 avg=2.74\n",
            "[290 | 1404.14] loss=2.50 avg=2.73\n",
            "[291 | 1408.82] loss=2.57 avg=2.73\n",
            "[292 | 1413.51] loss=2.66 avg=2.73\n",
            "[293 | 1418.21] loss=2.55 avg=2.73\n",
            "[294 | 1422.90] loss=2.61 avg=2.73\n",
            "[295 | 1427.60] loss=2.61 avg=2.73\n",
            "[296 | 1432.31] loss=2.72 avg=2.73\n",
            "[297 | 1436.99] loss=2.52 avg=2.72\n",
            "[298 | 1441.67] loss=2.59 avg=2.72\n",
            "[299 | 1446.37] loss=2.87 avg=2.72\n",
            "[300 | 1451.08] loss=2.40 avg=2.72\n",
            "======== SAMPLE 1 ========\n",
            ", you may well say, he who looks to your worship to do me the favour to go out and see himself at the gate?\n",
            "“That, indeed, would be just enough to convince me,” said the curate, “and I would do well, señor, here, to let my father-in-law see himself at the gate; if I don’t tell him where I am going to see myself I may well hold my tongue and say so, which, in time, I hope is, shall not come out.”\n",
            "\n",
            "“To my belief it is in the great city of Valencia,” said Sancho, “where I have been.”\n",
            "\n",
            "“I think you mean to say there is a great city there,” said Don Quixote; “and this man here who goes to see himself in the gate is very much mistaken; for he is in the middle of a great procession, and, seeing the lady Dulcinea I will say with a straight face, he seems to have a great desire to see himself in the gate; so here you have a man of such great beauty in the midst of that procession, that the greatest pleasure he will feel in seeing himself at the gate is, in the words of one of the most eminent men in the world, ‘See how it is you and your lady Dulcinea that give a good account of the kingdom of Spain and her many and great men, and in the words of Sancho of La Mancha, ‘The most illustrious knight that has ever lived is the most well-bred lady he has ever seen, that is to say, the most beautiful lady of his race, because he has never seen anything of the kind that they say or say.”\n",
            "\n",
            "“You say so,” said Sancho.\n",
            "\n",
            "Dapple asked what Sancho said, and what he meant, and all they could say was, that it must be the same with these men.\n",
            "\n",
            "“We were all astonished,” said the curate.\n",
            "\n",
            "“By God’s grace it must be, I am,” said Sancho, “and I don’t know who they were, and even if they had been those of Rocinante I would not have believed them.”\n",
            "\n",
            "“Don Quixote’s father was very much troubled at what was going on,” agreed the damsel; and the two went on, and afterwards both made answer that the damsel must not enter the building until all was over; and so they went on to ask if they had any new money for their dinner, which the landlord of the garden-house, who was there with them, and of whom Sancho was very well taken, told them that all money was in his account, without any change taken from him.\n",
            "One man had given money on the spot on a bill of exchange of five lads-colts and eight swindles, which the damsel at the price of five swindles gave him in advance. Sancho said he would do as the man was very eager about money, and had another woman come to his village to give him money as well. The landlord of the garden-house then came in and asked Sancho the same thing that was said to the curate:\n",
            "\n",
            "“On what are you here, Señor Don Quixote, to ask me this favour?”\n",
            "\n",
            "“I am here here to-day,” he replied; “to put the questions aside, who are you? Do not come any more.”\n",
            "\n",
            "“If you come here,” said the curate, he would have no mind at all concerning money; but he must, in the end, and for his own part, ask the favours, money, and other questions on the lady Dulcinea.\n",
            "A very few of the curate’s servants asked him the same thing, and as they were all present he said the word ‘me.”\n",
            "\n",
            "“What word, my friend,” said he, “does the term mean?”\n",
            "\n",
            "“I can only tell you that as they are all present I am neither the lady of the castle, nor she who is my father, nor do they even recognise her as a lady; but I have a certain impression of the person to have become such a lady. All the servants, the curate, the servants, go in to ask questions and give the answer, which Sancho gave them.\n",
            "“This is the curate,” said Sancho; “he is very shrewd for an emperor.”\n",
            "\n",
            "“He has a fair deal of money on, señora,” said the curate, “and I must\n",
            "\n",
            "[301 | 1472.33] loss=2.64 avg=2.72\n",
            "[302 | 1477.03] loss=2.46 avg=2.72\n",
            "[303 | 1481.73] loss=2.56 avg=2.72\n",
            "[304 | 1486.45] loss=2.37 avg=2.71\n",
            "[305 | 1491.12] loss=2.53 avg=2.71\n",
            "[306 | 1495.79] loss=2.79 avg=2.71\n",
            "[307 | 1500.49] loss=2.58 avg=2.71\n",
            "[308 | 1505.18] loss=2.61 avg=2.71\n",
            "[309 | 1509.88] loss=2.38 avg=2.71\n",
            "[310 | 1514.57] loss=2.81 avg=2.71\n",
            "[311 | 1519.25] loss=2.68 avg=2.71\n",
            "[312 | 1523.96] loss=2.65 avg=2.71\n",
            "[313 | 1528.64] loss=2.62 avg=2.70\n",
            "[314 | 1533.32] loss=2.63 avg=2.70\n",
            "[315 | 1538.03] loss=2.50 avg=2.70\n",
            "[316 | 1542.73] loss=2.47 avg=2.70\n",
            "[317 | 1547.43] loss=2.80 avg=2.70\n",
            "[318 | 1552.14] loss=2.67 avg=2.70\n",
            "[319 | 1556.85] loss=2.57 avg=2.70\n",
            "[320 | 1561.54] loss=2.56 avg=2.70\n",
            "[321 | 1566.23] loss=2.46 avg=2.69\n",
            "[322 | 1570.93] loss=2.62 avg=2.69\n",
            "[323 | 1575.62] loss=2.38 avg=2.69\n",
            "[324 | 1580.30] loss=2.62 avg=2.69\n",
            "[325 | 1584.99] loss=2.41 avg=2.69\n",
            "[326 | 1589.69] loss=2.24 avg=2.68\n",
            "[327 | 1594.38] loss=2.45 avg=2.68\n",
            "[328 | 1599.06] loss=2.48 avg=2.68\n",
            "[329 | 1603.75] loss=2.51 avg=2.68\n",
            "[330 | 1608.43] loss=2.41 avg=2.67\n",
            "[331 | 1613.11] loss=2.41 avg=2.67\n",
            "[332 | 1617.83] loss=2.53 avg=2.67\n",
            "[333 | 1622.54] loss=2.36 avg=2.67\n",
            "[334 | 1627.23] loss=2.48 avg=2.66\n",
            "[335 | 1631.92] loss=2.54 avg=2.66\n",
            "[336 | 1636.63] loss=2.63 avg=2.66\n",
            "[337 | 1641.32] loss=2.54 avg=2.66\n",
            "[338 | 1646.00] loss=2.47 avg=2.66\n",
            "[339 | 1650.65] loss=2.84 avg=2.66\n",
            "[340 | 1655.34] loss=2.52 avg=2.66\n",
            "[341 | 1660.00] loss=2.60 avg=2.66\n",
            "[342 | 1664.68] loss=2.59 avg=2.66\n",
            "[343 | 1669.34] loss=2.62 avg=2.66\n",
            "[344 | 1674.03] loss=2.54 avg=2.66\n",
            "[345 | 1678.73] loss=2.63 avg=2.66\n",
            "[346 | 1683.42] loss=2.52 avg=2.66\n",
            "[347 | 1688.11] loss=2.66 avg=2.66\n",
            "[348 | 1692.79] loss=2.64 avg=2.65\n",
            "[349 | 1697.48] loss=2.41 avg=2.65\n",
            "[350 | 1702.18] loss=2.62 avg=2.65\n",
            "[351 | 1706.87] loss=2.64 avg=2.65\n",
            "[352 | 1711.55] loss=2.49 avg=2.65\n",
            "[353 | 1716.23] loss=2.36 avg=2.65\n",
            "[354 | 1720.92] loss=2.54 avg=2.65\n",
            "[355 | 1725.61] loss=2.45 avg=2.64\n",
            "[356 | 1730.27] loss=2.34 avg=2.64\n",
            "[357 | 1734.95] loss=2.41 avg=2.64\n",
            "[358 | 1739.65] loss=2.18 avg=2.63\n",
            "[359 | 1744.32] loss=2.19 avg=2.63\n",
            "[360 | 1749.01] loss=2.53 avg=2.63\n",
            "[361 | 1753.73] loss=2.49 avg=2.63\n",
            "[362 | 1758.42] loss=2.51 avg=2.63\n",
            "[363 | 1763.12] loss=2.56 avg=2.62\n",
            "[364 | 1767.82] loss=2.46 avg=2.62\n",
            "[365 | 1772.52] loss=2.55 avg=2.62\n",
            "[366 | 1777.21] loss=2.58 avg=2.62\n",
            "[367 | 1781.89] loss=2.31 avg=2.62\n",
            "[368 | 1786.59] loss=2.28 avg=2.62\n",
            "[369 | 1791.27] loss=2.33 avg=2.61\n",
            "[370 | 1795.99] loss=2.48 avg=2.61\n",
            "[371 | 1800.65] loss=2.65 avg=2.61\n",
            "[372 | 1805.32] loss=2.60 avg=2.61\n",
            "[373 | 1809.98] loss=2.57 avg=2.61\n",
            "[374 | 1814.67] loss=2.27 avg=2.61\n",
            "[375 | 1819.36] loss=2.55 avg=2.61\n",
            "[376 | 1824.05] loss=2.39 avg=2.60\n",
            "[377 | 1828.72] loss=2.33 avg=2.60\n",
            "[378 | 1833.41] loss=2.51 avg=2.60\n",
            "[379 | 1838.11] loss=2.40 avg=2.60\n",
            "[380 | 1842.81] loss=2.35 avg=2.60\n",
            "[381 | 1847.51] loss=2.25 avg=2.59\n",
            "[382 | 1852.18] loss=2.40 avg=2.59\n",
            "[383 | 1856.86] loss=2.32 avg=2.59\n",
            "[384 | 1861.54] loss=2.45 avg=2.59\n",
            "[385 | 1866.24] loss=2.55 avg=2.59\n",
            "[386 | 1870.91] loss=2.42 avg=2.58\n",
            "[387 | 1875.58] loss=2.74 avg=2.59\n",
            "[388 | 1880.28] loss=2.30 avg=2.58\n",
            "[389 | 1884.95] loss=2.47 avg=2.58\n",
            "[390 | 1889.63] loss=2.44 avg=2.58\n",
            "[391 | 1894.32] loss=2.50 avg=2.58\n",
            "[392 | 1898.98] loss=2.28 avg=2.58\n",
            "[393 | 1903.67] loss=2.43 avg=2.58\n",
            "[394 | 1908.34] loss=2.46 avg=2.57\n",
            "[395 | 1913.04] loss=2.49 avg=2.57\n",
            "[396 | 1917.73] loss=2.29 avg=2.57\n",
            "[397 | 1922.43] loss=2.37 avg=2.57\n",
            "[398 | 1927.14] loss=2.48 avg=2.57\n",
            "[399 | 1931.83] loss=2.59 avg=2.57\n",
            "[400 | 1936.53] loss=2.28 avg=2.56\n",
            "======== SAMPLE 1 ========\n",
            " the Sancho it is\n",
            "to the letter which your worship does not wish me to be governed; for\n",
            "if the government is something that has been proposed to me by Don Quixote of La\n",
            "Manche, you have no right to refuse me it by force; for, as you may well\n",
            "tell me, I have the honour of being governed not and ought not to be, provided\n",
            "I do not usurp or usurp the authority of a ruler, and, as\n",
            "they say, not a little the greater part gets the government, and that is a\n",
            "great government, and a government as small as one may be governors, to which the\n",
            "small ones are called governors, and some the great, governors with their councils, and\n",
            "they call in them the chief magistrates and judges of the city or villages, and the\n",
            "minors magistrates or judges; whereby the small ones, for my part, would be,\n",
            "indeed it might be, a king of the whole or most parts, and in the city,\n",
            "the magistrate or judge, but in the court of a small county, where the\n",
            "judge shall be the judge of all; for, the same thing being so, in one\n",
            "place all judges do but an awful lot of swearing. And now, as you, as governor\n",
            "of one city or county, I have a good will to obey, or a mind to leave my\n",
            "maintained will-power to your worship, unless that is to govern as\n",
            "happily and fairly as you please, for it seems your will is that of a\n",
            "rich-bearded governor-madman, whom the law says your will is bound to\n",
            "have for your lord; and, as governor of one city, I have a will-power\n",
            "to obey it, and will be persuaded that it will do honour to me\n",
            "and your worship to me; for so long as I live I swear against anybody who\n",
            "wishes to take me for a niece and abscondent, and do homage to\n",
            "my lord if and when he offers me a suitable wife, and will do\n",
            "everything in his power to serve me and his pleasure.\n",
            "\n",
            "“I have no intention of interfering with your pleasure or the\n",
            "honour of another, for that shall remain for the time being to have\n",
            "nothing to do with governorship, so long as I live as you govern me as\n",
            "long as you do me a favour or a service.”\n",
            "\n",
            "“I am all the government you require,” replied Sancho, “for it\n",
            "comes not to the governorships to confer privileges or titles on a\n",
            "governor; the power of one to whom it seems may extend to some other;\n",
            "for that is the most honourable I can bestow upon another. And now what\n",
            "do you want me to do, and does your worship desire me to do it?\n",
            "If it pleases you, do it, for there will be time enough for all;\n",
            "let us have it now and let there be no question left of the\n",
            "government; for it is always the lady whom God has chosen for the\n",
            "princely one, and the lady what my lady promises.”\n",
            "\n",
            "“By all that’s well,” said Don Quixote, “your worship, though there’s\n",
            "no need of any more questions, because God knows there is nothing else\n",
            "which he can do more conveniently than to make the lady the great lady\n",
            "of the hills say to her, “Abrasion, lady of the huts, it is all the\n",
            "business of the queen to make us feel satisfied with who we are.”\n",
            "\n",
            "“I take honour in asking what her Majesty requires of me,” said Sancho, “and when\n",
            "she asks, for example, her will, she has told me by no fault of my choosing\n",
            "which country my daughter will make my first lord, and if she’s not\n",
            "that of France the other of Greece, for a good governor will do all in his\n",
            "power. I’m told, for me I only ask what my daughter asks; and I’ll wait\n",
            "before answering. And so, if your worship pleases me, there’s no need of\n",
            "anymore inquiries or questions;” and Don Quixote asked his master if his\n",
            "lord and master had given him any advice about how to govern his island,\n",
            "and if so many things might be said about him who could govern, on which\n",
            "the answer, with the exception of what the governor told him would please\n",
            "the Queen and his lady, did not seem to him as much to ask as to\n",
            "answer.\n",
            "\n",
            "“As to the island,” said Sancho, “I say I believe, and God will understand,\n",
            "that you may know it and you’ll regret it.�\n",
            "\n",
            "[401 | 1957.75] loss=2.26 avg=2.56\n",
            "[402 | 1962.44] loss=2.48 avg=2.56\n",
            "[403 | 1967.12] loss=2.19 avg=2.56\n",
            "[404 | 1971.79] loss=2.09 avg=2.55\n",
            "[405 | 1976.49] loss=2.41 avg=2.55\n",
            "[406 | 1981.19] loss=2.42 avg=2.55\n",
            "[407 | 1985.87] loss=2.22 avg=2.55\n",
            "[408 | 1990.57] loss=2.26 avg=2.54\n",
            "[409 | 1995.25] loss=2.52 avg=2.54\n",
            "[410 | 1999.93] loss=2.32 avg=2.54\n",
            "[411 | 2004.64] loss=2.39 avg=2.54\n",
            "[412 | 2009.32] loss=2.41 avg=2.54\n",
            "[413 | 2014.02] loss=2.16 avg=2.53\n",
            "[414 | 2018.71] loss=2.43 avg=2.53\n",
            "[415 | 2023.40] loss=2.28 avg=2.53\n",
            "[416 | 2028.06] loss=2.34 avg=2.53\n",
            "[417 | 2032.75] loss=2.36 avg=2.53\n",
            "[418 | 2037.40] loss=2.43 avg=2.53\n",
            "[419 | 2042.08] loss=2.40 avg=2.52\n",
            "[420 | 2046.76] loss=2.36 avg=2.52\n",
            "[421 | 2051.45] loss=2.24 avg=2.52\n",
            "[422 | 2056.13] loss=1.96 avg=2.51\n",
            "[423 | 2060.80] loss=2.52 avg=2.51\n",
            "[424 | 2065.49] loss=2.31 avg=2.51\n",
            "[425 | 2070.17] loss=2.10 avg=2.51\n",
            "[426 | 2074.86] loss=2.38 avg=2.51\n",
            "[427 | 2079.55] loss=2.56 avg=2.51\n",
            "[428 | 2084.24] loss=2.50 avg=2.51\n",
            "[429 | 2088.90] loss=2.27 avg=2.50\n",
            "[430 | 2093.61] loss=2.65 avg=2.51\n",
            "[431 | 2098.28] loss=2.49 avg=2.51\n",
            "[432 | 2102.95] loss=2.50 avg=2.51\n",
            "[433 | 2107.62] loss=2.46 avg=2.51\n",
            "[434 | 2112.30] loss=2.38 avg=2.50\n",
            "[435 | 2116.99] loss=2.42 avg=2.50\n",
            "[436 | 2121.68] loss=2.55 avg=2.50\n",
            "[437 | 2126.36] loss=2.27 avg=2.50\n",
            "[438 | 2131.06] loss=2.35 avg=2.50\n",
            "[439 | 2135.75] loss=2.43 avg=2.50\n",
            "[440 | 2140.45] loss=2.01 avg=2.49\n",
            "[441 | 2145.16] loss=2.55 avg=2.50\n",
            "[442 | 2149.86] loss=2.43 avg=2.49\n",
            "[443 | 2154.54] loss=2.17 avg=2.49\n",
            "[444 | 2159.24] loss=2.32 avg=2.49\n",
            "[445 | 2163.95] loss=2.33 avg=2.49\n",
            "[446 | 2168.63] loss=2.11 avg=2.48\n",
            "[447 | 2173.32] loss=2.25 avg=2.48\n",
            "[448 | 2178.01] loss=2.17 avg=2.48\n",
            "[449 | 2182.68] loss=2.45 avg=2.48\n",
            "[450 | 2187.36] loss=2.24 avg=2.48\n",
            "[451 | 2192.04] loss=2.03 avg=2.47\n",
            "[452 | 2196.72] loss=2.06 avg=2.47\n",
            "[453 | 2201.39] loss=2.20 avg=2.46\n",
            "[454 | 2206.07] loss=2.16 avg=2.46\n",
            "[455 | 2210.75] loss=2.00 avg=2.46\n",
            "[456 | 2215.42] loss=2.33 avg=2.46\n",
            "[457 | 2220.11] loss=2.31 avg=2.45\n",
            "[458 | 2224.80] loss=2.49 avg=2.45\n",
            "[459 | 2229.46] loss=2.18 avg=2.45\n",
            "[460 | 2234.13] loss=2.55 avg=2.45\n",
            "[461 | 2238.84] loss=2.11 avg=2.45\n",
            "[462 | 2243.54] loss=2.50 avg=2.45\n",
            "[463 | 2248.24] loss=2.25 avg=2.45\n",
            "[464 | 2252.93] loss=2.26 avg=2.45\n",
            "[465 | 2257.63] loss=2.28 avg=2.44\n",
            "[466 | 2262.32] loss=2.13 avg=2.44\n",
            "[467 | 2267.01] loss=2.23 avg=2.44\n",
            "[468 | 2271.69] loss=1.87 avg=2.43\n",
            "[469 | 2276.38] loss=2.06 avg=2.43\n",
            "[470 | 2281.08] loss=2.19 avg=2.43\n",
            "[471 | 2285.75] loss=2.20 avg=2.42\n",
            "[472 | 2290.46] loss=1.98 avg=2.42\n",
            "[473 | 2295.14] loss=2.43 avg=2.42\n",
            "[474 | 2299.81] loss=1.93 avg=2.42\n",
            "[475 | 2304.51] loss=2.05 avg=2.41\n",
            "[476 | 2309.18] loss=2.18 avg=2.41\n",
            "[477 | 2313.85] loss=2.11 avg=2.41\n",
            "[478 | 2318.52] loss=2.54 avg=2.41\n",
            "[479 | 2323.21] loss=2.28 avg=2.41\n",
            "[480 | 2327.89] loss=2.06 avg=2.40\n",
            "[481 | 2332.58] loss=2.09 avg=2.40\n",
            "[482 | 2337.28] loss=2.44 avg=2.40\n",
            "[483 | 2341.97] loss=2.32 avg=2.40\n",
            "[484 | 2346.65] loss=1.89 avg=2.39\n",
            "[485 | 2351.33] loss=2.31 avg=2.39\n",
            "[486 | 2356.00] loss=2.60 avg=2.40\n",
            "[487 | 2360.69] loss=2.07 avg=2.39\n",
            "[488 | 2365.35] loss=2.31 avg=2.39\n",
            "[489 | 2370.04] loss=2.29 avg=2.39\n",
            "[490 | 2374.73] loss=2.39 avg=2.39\n",
            "[491 | 2379.41] loss=2.47 avg=2.39\n",
            "[492 | 2384.07] loss=2.24 avg=2.39\n",
            "[493 | 2388.76] loss=1.99 avg=2.39\n",
            "[494 | 2393.43] loss=2.26 avg=2.38\n",
            "[495 | 2398.13] loss=2.29 avg=2.38\n",
            "[496 | 2402.83] loss=2.31 avg=2.38\n",
            "[497 | 2407.51] loss=2.14 avg=2.38\n",
            "[498 | 2412.19] loss=2.17 avg=2.38\n",
            "[499 | 2416.88] loss=2.27 avg=2.38\n",
            "[500 | 2421.55] loss=2.25 avg=2.38\n",
            "Saving checkpoint/run1/model-500\n",
            "I can\n",
            "Tell thee, little girl, how I look upon thy\n",
            "permission to confess thyself the first to come, and\n",
            "set foot on the high road to it, to give thee entrance to\n",
            "the kingdom of Aragon or to France, where thou mayest always\n",
            "be the first to see me, and all the rest of it?”\n",
            "\n",
            "“And what are thy gifts of fortune?” said the princess.\n",
            "\n",
            "“I am a great beauty, sweet without shame, and I surpass in\n",
            "beauty all the princesses of the world, and in my youth all\n",
            "the princes of Spain had in their possession, and I am the fairest of\n",
            "them all, and of such a disposition and disposition that I am to\n",
            "fear God that I will not see thee in twelve years, or the life of\n",
            "the world, if thou wilt not give me thy promise of marriage.”\n",
            "\n",
            "“I swear, too,” replied the princess, “that I have nothing to do with marrying\n",
            "any one of thee, to save the other a second princess, a wife of mine,\n",
            "who is a very rich Christian, and a very valiant knight.”\n",
            "\n",
            "“That will do,” said I, “but I will take care that thou dost choose\n",
            "thy wife and her husband’s daughter, for the princesses of the world are\n",
            "always ready to give themselves a husband for their children.”\n",
            "\n",
            "“I don’t know how that can be,” said the princess, “but I know it\n",
            "will not be better than being married to a knight-errant, for there\n",
            "will be no want of knights-errant to satisfy the want of the princess.\n",
            "‘If your worship thinks that I am fit to be a squire to my lady,\n",
            "take care that thou seest that thou wilt give me more than three\n",
            "squires; for as I am a knight, I am not to be looked down upon or over\n",
            "given by the princesses of the world.’”\n",
            "\n",
            "“Full well then, little fool,” said I, “as I am well-nigh married to my\n",
            "wife, to whom I am not bound to marry, I am not in a position to\n",
            "take it for granted, and the best thing for me to do is to come\n",
            "before your worship and say that I am the best squire there is, and that\n",
            "it is not to be supposed that I am married to some feebleminded\n",
            "intellect, but to any kind of sensible woman with an enamoured mind; and\n",
            "here I am going to give you an answer that will please you, not to the\n",
            "folly of the nonsense that has been the subject of your worship in this\n",
            "house, but to the truth and good-breeding of the squires, and to the\n",
            "good-breeding of the children; and if you find yourself unable to make\n",
            "your choice, be glad to know that this time I am not to be blamed for it, for\n",
            "it was I who chose it, and I know you more than I know you; and I will give\n",
            "you the best squire there is, and that will be the happiest of all\n",
            "squires I know, as I am the most well-born in the world.”\n",
            "\n",
            "“That is true,” said I, “but I do not know how I can make a good squire,\n",
            "for I have heard of no one of the four in the world who is fit to be\n",
            "the squire of a knight-errant.”\n",
            "\n",
            "“I do not know how I can make a good squire,” said my master, “but one who\n",
            "will give him his liberty, and will give him his government, and will do\n",
            "as he pleases.”\n",
            "\n",
            "“That is true,” said my master, “but I do not know how I can give a\n",
            "squire, for I have heard many gentlemen say that if they had\n",
            "the least trouble they were much more likely to become knights-errant.\n",
            "But I do not think it is fair to say that I am the squire of a squire,\n",
            "because it does not seem to me by what I have seen how easy it is for\n",
            "a knight-errant to become a governor.”\n",
            "\n",
            "“I do not know how I can give a squire,” said my master, “but to me\n",
            "the squire of a knight-errant is the best squire which the world\n",
            "could wish for; and I, if I were not the best squire in the world,\n",
            "I would give him two, for all the squires in the world are squires, and\n",
            "the best squ\n"
          ]
        }
      ],
      "source": [
        "# This line is necessary to be able to run a new tf session if one has already been run\n",
        "tf.reset_default_graph()\n",
        "# Start a session\n",
        "sess = gpt2.start_tf_sess()\n",
        "# Fine tune `model_name` on `data`\n",
        "###################################\n",
        "# Swap out the `dataset` parameter with the path to your text dataset\n",
        "###################################\n",
        "gpt2.finetune(sess,\n",
        "              dataset='../content/996-0.txt',\n",
        "              model_name=model_name,\n",
        "              restore_from='latest',\n",
        "              steps=500)   # steps is max number of training steps\n",
        "\n",
        "gpt2.generate(sess, run_name='run1')"
      ]
    }
  ],
  "metadata": {
    "accelerator": "GPU",
    "colab": {
      "collapsed_sections": [
        "sBOvJdJfkXIL",
        "kFoEeTYHDq2s",
        "7z6g7a_Y84n0",
        "TBigIUFTukeJ",
        "zcz0JGXjxFGe",
        "2vJVbYcAJAf2",
        "gMOzGDND9FD1",
        "eOtl8z8G9wbr",
        "2Krh0eYy18R9",
        "aEDv_-H7BvM0",
        "YH5mQBaa-_0b",
        "XMKRI77_-8nc",
        "qBT5jgifC7Im",
        "_K7F19SPQo6U",
        "9YLXvK51RnuL",
        "AHmjSVf_FNHv",
        "gPXJkNubFyY6",
        "iD45m3IwF9hh",
        "usQE-rSPZq_X",
        "IoA0tZZCa_1k",
        "8pa5vFJ5EUjv"
      ],
      "name": "lab9.ipynb",
      "provenance": []
    },
    "kernelspec": {
      "display_name": "Python 3",
      "language": "python",
      "name": "python3"
    },
    "language_info": {
      "codemirror_mode": {
        "name": "ipython",
        "version": 3
      },
      "file_extension": ".py",
      "mimetype": "text/x-python",
      "name": "python",
      "nbconvert_exporter": "python",
      "pygments_lexer": "ipython3",
      "version": "3.7.4"
    }
  },
  "nbformat": 4,
  "nbformat_minor": 0
}