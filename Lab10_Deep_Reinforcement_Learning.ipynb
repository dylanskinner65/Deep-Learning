{
  "nbformat": 4,
  "nbformat_minor": 0,
  "metadata": {
    "accelerator": "GPU",
    "colab": {
      "name": "lab10.ipynb",
      "provenance": [],
      "collapsed_sections": []
    },
    "kernelspec": {
      "display_name": "Python 3",
      "language": "python",
      "name": "python3"
    },
    "language_info": {
      "codemirror_mode": {
        "name": "ipython",
        "version": 3
      },
      "file_extension": ".py",
      "mimetype": "text/x-python",
      "name": "python",
      "nbconvert_exporter": "python",
      "pygments_lexer": "ipython3",
      "version": "3.7.4"
    }
  },
  "cells": [
    {
      "cell_type": "markdown",
      "metadata": {
        "id": "w-jFCArcTC-B"
      },
      "source": [
        "<a \n",
        "href=\"https://colab.research.google.com/github/wingated/cs474_labs_f2019/blob/master/DL_Lab9.ipynb\"\n",
        "  target=\"_parent\">\n",
        "  <img\n",
        "    src=\"https://colab.research.google.com/assets/colab-badge.svg\"\n",
        "    alt=\"Open In Colab\"/>\n",
        "</a>"
      ]
    },
    {
      "cell_type": "markdown",
      "metadata": {
        "id": "sl7hEuB3J4k3"
      },
      "source": [
        "# Lab 10: Deep Reinforcement Learning\n",
        "\n",
        "## Objective\n",
        "\n",
        "- Build DQN and PPO Deep RL algorithms\n",
        "- Learn the difference between Q Learning and Policy Gradient techniques\n",
        "\n",
        "## Deliverable\n",
        "\n",
        "For this lab you will submit an ipython notebook via learning suite. This lab gives you a lot of code, and you should only need to modify two of the cells of this notebook. Feel free to download and modify this notebook or create your own. The below code is given for your convinience. You can modify any of the given code if you wish.\n",
        "\n",
        "## Tips\n",
        "\n",
        "Deep reinforcement learning is difficult. We provide hyperparameters, visualizations, and code for gathering experience, but require you to code up algorithms for training your networks. \n",
        "\n",
        "- Your networks should be able to demonstrate learning on cartpole within a minute of wall time.\n",
        "\n",
        "- Understand what your the starter code is doing. This will help you with the *TODO* sections. The main code block is similar for the two algorithms with some small yet important differences.\n",
        "\n",
        "- We provide hyperparameters for you to start with. Feel free to experiment with different values, but these worked for us.\n",
        "\n",
        "- **Print dtypes and shapes** throughout your code to make sure your tensors look the way you expect.\n",
        "\n",
        "- The DQN algorithm is significantly more unstable than PPO. Even with a correct implementation it may fail to learn every 1/10 times.\n",
        "\n",
        "- Unfortunately visualizing your agent acting in the environment is non-trivial in Colab. You can visualize your agent by running this code locally and uncommenting the `env.render()` line.\n",
        "\n",
        "## Grading\n",
        "\n",
        "- 40% Part 1: DQN *TODO* methods\n",
        "- 40% Part 2: PPO *TODO* methods\n",
        "- 20% Cartpole learning curves\n",
        "\n",
        "\n",
        "### Cartpole\n",
        "\n",
        "Cartpole is a simple environment to get your agent up and running. It has a continuous state space of 4 dimensions and a discrete action space of 2. The agent is given a reward of 1 for each timestep it remains standing. Your agent should be able to reach close to 200 cumulative reward for an episode after a minute or two of training. The below graphs show example results for dqn (left) and ppo (right).\n",
        "\n",
        "![alt text](https://drive.google.com/uc?export=view&id=1Bpz1jOPMF1zJMW6XBJJ44sJ-RmO_q6_U)\n",
        "![alt text](https://drive.google.com/uc?export=view&id=1M1yygXhLKDL8qfRXn7fh_K-zq7-pQRhY)\n",
        "\n",
        "### TODO\n",
        "\n",
        "- Train DQN and PPO on cartpole\n",
        "- Display learning curves with average episodic reward per epoch"
      ]
    },
    {
      "cell_type": "markdown",
      "metadata": {
        "id": "gVWokqnVab6O"
      },
      "source": [
        "# Starter Code"
      ]
    },
    {
      "cell_type": "markdown",
      "metadata": {
        "id": "WhaPOG6xt0yn"
      },
      "source": [
        "## Init"
      ]
    },
    {
      "cell_type": "code",
      "metadata": {
        "id": "EyykNyRM1Tf3",
        "colab": {
          "base_uri": "https://localhost:8080/"
        },
        "outputId": "a74eb3d3-3c57-44fb-bbf8-7a400fdaed31"
      },
      "source": [
        "! pip3 install gym\n",
        "! pip3 install torch\n",
        "####################\n",
        "! pip install gym pyvirtualdisplay\n",
        "! apt-get install -y xvfb python-opengl ffmpeg\n",
        "####################"
      ],
      "execution_count": null,
      "outputs": [
        {
          "output_type": "stream",
          "name": "stdout",
          "text": [
            "Requirement already satisfied: gym in /usr/local/lib/python3.7/dist-packages (0.17.3)\n",
            "Requirement already satisfied: cloudpickle<1.7.0,>=1.2.0 in /usr/local/lib/python3.7/dist-packages (from gym) (1.3.0)\n",
            "Requirement already satisfied: pyglet<=1.5.0,>=1.4.0 in /usr/local/lib/python3.7/dist-packages (from gym) (1.5.0)\n",
            "Requirement already satisfied: scipy in /usr/local/lib/python3.7/dist-packages (from gym) (1.4.1)\n",
            "Requirement already satisfied: numpy>=1.10.4 in /usr/local/lib/python3.7/dist-packages (from gym) (1.21.5)\n",
            "Requirement already satisfied: future in /usr/local/lib/python3.7/dist-packages (from pyglet<=1.5.0,>=1.4.0->gym) (0.16.0)\n",
            "Requirement already satisfied: torch in /usr/local/lib/python3.7/dist-packages (1.10.0+cu111)\n",
            "Requirement already satisfied: typing-extensions in /usr/local/lib/python3.7/dist-packages (from torch) (3.10.0.2)\n",
            "Requirement already satisfied: gym in /usr/local/lib/python3.7/dist-packages (0.17.3)\n",
            "Collecting pyvirtualdisplay\n",
            "  Downloading PyVirtualDisplay-3.0-py3-none-any.whl (15 kB)\n",
            "Requirement already satisfied: pyglet<=1.5.0,>=1.4.0 in /usr/local/lib/python3.7/dist-packages (from gym) (1.5.0)\n",
            "Requirement already satisfied: numpy>=1.10.4 in /usr/local/lib/python3.7/dist-packages (from gym) (1.21.5)\n",
            "Requirement already satisfied: scipy in /usr/local/lib/python3.7/dist-packages (from gym) (1.4.1)\n",
            "Requirement already satisfied: cloudpickle<1.7.0,>=1.2.0 in /usr/local/lib/python3.7/dist-packages (from gym) (1.3.0)\n",
            "Requirement already satisfied: future in /usr/local/lib/python3.7/dist-packages (from pyglet<=1.5.0,>=1.4.0->gym) (0.16.0)\n",
            "Installing collected packages: pyvirtualdisplay\n",
            "Successfully installed pyvirtualdisplay-3.0\n",
            "Reading package lists... Done\n",
            "Building dependency tree       \n",
            "Reading state information... Done\n",
            "ffmpeg is already the newest version (7:3.4.8-0ubuntu0.2).\n",
            "Suggested packages:\n",
            "  libgle3\n",
            "The following NEW packages will be installed:\n",
            "  python-opengl xvfb\n",
            "0 upgraded, 2 newly installed, 0 to remove and 39 not upgraded.\n",
            "Need to get 1,280 kB of archives.\n",
            "After this operation, 7,687 kB of additional disk space will be used.\n",
            "Get:1 http://archive.ubuntu.com/ubuntu bionic/universe amd64 python-opengl all 3.1.0+dfsg-1 [496 kB]\n",
            "Get:2 http://archive.ubuntu.com/ubuntu bionic-updates/universe amd64 xvfb amd64 2:1.19.6-1ubuntu4.10 [784 kB]\n",
            "Fetched 1,280 kB in 2s (552 kB/s)\n",
            "Selecting previously unselected package python-opengl.\n",
            "(Reading database ... 155332 files and directories currently installed.)\n",
            "Preparing to unpack .../python-opengl_3.1.0+dfsg-1_all.deb ...\n",
            "Unpacking python-opengl (3.1.0+dfsg-1) ...\n",
            "Selecting previously unselected package xvfb.\n",
            "Preparing to unpack .../xvfb_2%3a1.19.6-1ubuntu4.10_amd64.deb ...\n",
            "Unpacking xvfb (2:1.19.6-1ubuntu4.10) ...\n",
            "Setting up python-opengl (3.1.0+dfsg-1) ...\n",
            "Setting up xvfb (2:1.19.6-1ubuntu4.10) ...\n",
            "Processing triggers for man-db (2.8.3-2ubuntu0.1) ...\n"
          ]
        }
      ]
    },
    {
      "cell_type": "code",
      "metadata": {
        "id": "Rim8iocC1Vva"
      },
      "source": [
        "import gym\n",
        "import torch\n",
        "import torch.nn as nn\n",
        "import torch.nn.functional as F\n",
        "from itertools import chain\n",
        "import matplotlib.pyplot as plt\n",
        "from tqdm import tqdm\n",
        "import random\n",
        "from torch.utils.data import Dataset, DataLoader\n",
        "import numpy as np\n",
        "\n",
        "####################\n",
        "from gym import logger as gymlogger\n",
        "from gym.wrappers import Monitor\n",
        "gymlogger.set_level(40) #error only\n",
        "\n",
        "import glob\n",
        "import io\n",
        "import base64\n",
        "from IPython.display import HTML\n",
        "from IPython import display as ipythondisplay\n",
        "####################"
      ],
      "execution_count": null,
      "outputs": []
    },
    {
      "cell_type": "code",
      "metadata": {
        "id": "l1f8lZp19Lwj",
        "colab": {
          "base_uri": "https://localhost:8080/"
        },
        "outputId": "4c81fb45-3405-4c96-8166-f08096ed224a"
      },
      "source": [
        "######################\n",
        "from pyvirtualdisplay import Display\n",
        "display = Display(visible=0, size=(1400,900))\n",
        "display.start()\n",
        "######################"
      ],
      "execution_count": null,
      "outputs": [
        {
          "output_type": "execute_result",
          "data": {
            "text/plain": [
              "<pyvirtualdisplay.display.Display at 0x7f699303c050>"
            ]
          },
          "metadata": {},
          "execution_count": 3
        }
      ]
    },
    {
      "cell_type": "code",
      "metadata": {
        "id": "_TI_5c0l9Ojv"
      },
      "source": [
        "######################\n",
        "def show_video():\n",
        "  mp4list = glob.glob('video/*.mp4')\n",
        "  if len(mp4list) > 0:\n",
        "    mp4 = mp4list[0]\n",
        "    video = io.open(mp4, 'r+b').read()\n",
        "    encoded = base64.b64encode(video)\n",
        "    ipythondisplay.display(HTML(data='''<video alt=\"test\" autoplay \n",
        "                loop controls style=\"height: 400px;\">\n",
        "                <source src=\"data:video/mp4;base64,{0}\" type=\"video/mp4\" />\n",
        "             </video>'''.format(encoded.decode('ascii'))))\n",
        "  else: \n",
        "    print(\"Could not find video\")\n",
        "\n",
        "def wrap_env(env):\n",
        "  env = Monitor(env, './video', force=True)\n",
        "  return env\n",
        "######################"
      ],
      "execution_count": null,
      "outputs": []
    },
    {
      "cell_type": "markdown",
      "metadata": {
        "id": "mV282uYJ2aSw"
      },
      "source": [
        "## DQN"
      ]
    },
    {
      "cell_type": "markdown",
      "metadata": {
        "id": "Qi_aDdTg2btp"
      },
      "source": [
        "## Part 1\n",
        "\n",
        "\n",
        "Deep Q-Network (https://www.cs.toronto.edu/~vmnih/docs/dqn.pdf) is a Q-learning algorithm that learns values for state-action pairs.\n",
        "\n",
        "Actions are sampled according to an $\\epsilon-greedy$ policy to help with exploration of the state space. Every time an action is sampled, the agent chooses a random action with $\\epsilon$ probability. Otherwise, the agent selects the action with the highest Q-value for a state. $\\epsilon$ decays over time according to $\\epsilon \\gets \\epsilon * epsilon\\_decay$.\n",
        "\n",
        "Tuples of state, action, reward, next_state, and terminal $(s,a,r,s',d)$ are collected during training. Every $learn\\_frequency$ steps $sample\\_size$ tuples are sampled and made into 5 tensors tensors of states, actions, rewarads, next_states, and terminals.\n",
        "\n",
        "The loss for a batch of size N is given below.\n",
        "\n",
        "$Loss=\\frac{1}{N}\\sum \\bigg(Q(s,a) - (r + \\gamma \\underset{a'\\sim A}{max} \\hat{Q}(s',a')(1-d))\\bigg)^2 $\n",
        "\n",
        "Where: \n",
        "\n",
        "- $Q(s,a)$ is the state-action pair for the current state and action.\n",
        "\n",
        "- $r$ is the reward\n",
        "\n",
        "- $\\gamma$ is the discount factor\n",
        "\n",
        "- $\\underset{a'\\sim A}{max} \\hat Q(s',a')$ is the maximum choice for the future state-action pair for the target network (which is $\\hat Q)$\n",
        "\n",
        "- $(1-d)$ is to tell if the model is done or not. (If it is done, $d=1$ will be true, so we will only account for the current state-action pair $Q(s,a)$.)\n",
        "\n",
        "\n",
        "Loss is calculated and used to update the Q-Network. The target network $\\hat{Q}$ begins as a copy of the Q network but is not updated by the optimizer. Every $target\\_update$ steps, the target network is updated with the parameters of the Q-Network. This process is a type of bootstrapping.\n",
        "\n",
        "### TODO\n",
        "\n",
        "- Implement get action method with e-greedy policy\n",
        "- Implement sample batch method\n",
        "- Implement DQN learning algorithm\n",
        "\n"
      ]
    },
    {
      "cell_type": "code",
      "metadata": {
        "id": "_mBUvXkT2dHy"
      },
      "source": [
        "def get_action_dqn(network, state, epsilon, epsilon_decay):\n",
        "  \"\"\"Select action according to e-greedy policy and decay epsilon\n",
        "\n",
        "    Args:\n",
        "        network (QNetwork): Q-Network\n",
        "        state (np-array): current state, size (state_size)\n",
        "        epsilon (float): probability of choosing a random action\n",
        "        epsilon_decay (float): amount by which to decay epsilon\n",
        "\n",
        "    Returns:\n",
        "        action (int): chosen action [0, action_size)\n",
        "        epsilon (float): decayed epsilon\n",
        "  \"\"\"\n",
        "  # Step 1: Turn the state from np.array to tensor and pass to gpu.\n",
        "  tensor_state = torch.from_numpy(state.astype('float32')).cuda()\n",
        "\n",
        "  # Step 2: Get a random number to see if we choose random step or not.\n",
        "  random_chance = np.random.random()\n",
        "\n",
        "  # Step 3.0: If we choose random step, get the q-values from that\n",
        "  if random_chance <= epsilon:\n",
        "    # Note: we have np.random.random_sample((2,)) because there are only two actions for our cartpole environment.\n",
        "      # So np.random.random_sample((2,)) will return two random 'probabilities.'\n",
        "    next_choice = torch.from_numpy(np.random.random_sample((2,)).astype('float32'))\n",
        "\n",
        "  # Step 3.1: If we do not choose a random step, plug the tensor_state into the network to get the best choice from q-table. \n",
        "    # Note: Make sure to unsqueeze because we need a 'batch.'\n",
        "  elif random_chance > epsilon:\n",
        "    next_choice = network(tensor_state.unsqueeze(0))\n",
        "  \n",
        "  # Step 4: Take the argmax of next_choice to get the actual choice we will take.\n",
        "  final_choice = torch.argmax(next_choice)\n",
        "\n",
        "  # Step 5: Calculate the new epsilon with its decay\n",
        "  new_epsilon = epsilon*epsilon_decay\n",
        "  return final_choice.item(), new_epsilon\n",
        "\n",
        "\n",
        "def prepare_batch(memory, batch_size):\n",
        "  \"\"\"Randomly sample batch from memory\n",
        "     Prepare cuda tensors\n",
        "\n",
        "    Args:\n",
        "        memory (list): state, action, next_state, reward, done tuples\n",
        "        batch_size (int): amount of memory to sample into a batch\n",
        "\n",
        "    Returns:\n",
        "        state (tensor): float cuda tensor of size (batch_size x state_size)\n",
        "          This is size (32 x 4)\n",
        "        action (tensor): long tensor of size (batch_size)\n",
        "          This is size (32) because there are 32 opportunities to take actions.\n",
        "        next_state (tensor): float cuda tensor of size (batch_size x state_size)\n",
        "          This is size (32 x 4)\n",
        "        reward (tensor): float cuda tensor of size (batch_size)\n",
        "          This is size (32)\n",
        "        done (tensor): float cuda tensor of size (batch_size)\n",
        "          This is size (32)\n",
        "  \"\"\"\n",
        "  # state_size = 4\n",
        "  # batch_size = 32\n",
        "  # random_sample_batch is a list of size 32 that is one of the elements of the memory list (non-repeating).\n",
        "  random_sample_batch = random.sample(memory, batch_size)\n",
        "\n",
        "  # Get necessary tensors\n",
        "  state      = [item[0] for item in random_sample_batch]\n",
        "  action     = [item[1] for item in random_sample_batch]\n",
        "  next_state = [item[2] for item in random_sample_batch]\n",
        "  reward     = [item[3] for item in random_sample_batch]\n",
        "  done       = [item[4] for item in random_sample_batch]\n",
        "  #print(f\"done {done}\\n\")\n",
        "  #print(f\"done as int {done.int()}\")\n",
        "\n",
        "  # Turn those tensors into the needed tensors as perscribed above.\n",
        "  state_t      = torch.FloatTensor(state).cuda()\n",
        "  action_t     = torch.LongTensor(action).cuda()\n",
        "  next_state_t = torch.FloatTensor(next_state).cuda()\n",
        "  reward_t     = torch.FloatTensor(reward).cuda()\n",
        "  done_t       = torch.FloatTensor(done).cuda()\n",
        "\n",
        "  return state_t, action_t, next_state_t, reward_t, done_t\n",
        "\n",
        "  \n",
        "def learn_dqn(batch, optim, q_network, target_network, gamma, global_step, target_update):\n",
        "  \"\"\"Update Q-Network according to DQN Loss function\n",
        "     Update Target Network every target_update global steps\n",
        "\n",
        "    Args:\n",
        "        batch (tuple): tuple of state, action, next_state, reward, and done tensors\n",
        "        optim (Adam): Q-Network optimizer\n",
        "        q_network (QNetwork): Q-Network\n",
        "        target_network (QNetwork): Target Q-Network\n",
        "        gamma (float): discount factor\n",
        "        global_step (int): total steps taken in environment\n",
        "        target_update (int): frequency of target network update\n",
        "  \"\"\"\n",
        "  # Step 1: Separate tuple\n",
        "  state, action, next_state, reward, done_tensor = batch\n",
        "\n",
        "  # Step 2: Clear gradients.\n",
        "  optim.zero_grad()\n",
        "\n",
        "  # Step 3: Get y_truth from the target_network (pass in next_state to get prediction)\n",
        "  y_truth = target_network(next_state)  # This gives us a bunch of predicted values\n",
        "  #print(f\"y_truth.shape\\t\\t\\t {y_truth.shape}\\n\")\n",
        "\n",
        "  # Step 4: Get y_hat from the q_network\n",
        "  y_hat = q_network(state)\n",
        "  action_onehot = F.one_hot(action).bool()\n",
        "\n",
        "  \n",
        "  # Step 5: Get the reward + gamma*argmax(future)*(1-dones)\n",
        "  second_half_of_equation = reward + (gamma * torch.max(y_truth, dim=1)[0] * (1-done_tensor.long()))\n",
        "\n",
        "  # Step 5: Get loss\n",
        "  loss = F.mse_loss(y_hat[action_onehot], second_half_of_equation)\n",
        "\n",
        "  # Step 6: Do normal nn stuff\n",
        "  loss.backward()\n",
        "  optim.step()\n",
        "\n",
        "  \n",
        "  if global_step % target_update == 0:\n",
        "    # Question: How do I update target network?\n",
        "    target_network.load_state_dict(q_network.state_dict())  # ?\n",
        "  pass\n",
        "\n"
      ],
      "execution_count": null,
      "outputs": []
    },
    {
      "cell_type": "markdown",
      "metadata": {
        "id": "vGQgiY0WvImB"
      },
      "source": [
        "### Modules"
      ]
    },
    {
      "cell_type": "code",
      "metadata": {
        "id": "1vMhl-oevIBo"
      },
      "source": [
        "# Q-Value Network\n",
        "class QNetwork(nn.Module):\n",
        "  def __init__(self, state_size, action_size):\n",
        "    super().__init__()\n",
        "    hidden_size = 8\n",
        "    \n",
        "    self.net = nn.Sequential(nn.Linear(state_size, hidden_size),\n",
        "                             nn.ReLU(),\n",
        "                             nn.Linear(hidden_size, hidden_size),\n",
        "                             nn.ReLU(),\n",
        "                             nn.Linear(hidden_size, hidden_size),\n",
        "                             nn.ReLU(),\n",
        "                             nn.Linear(hidden_size, action_size))  \n",
        "    \n",
        "  def forward(self, x):\n",
        "    \"\"\"Estimate q-values given state\n",
        "\n",
        "      Args:\n",
        "          state (tensor): current state, size (batch x state_size)\n",
        "\n",
        "      Returns:\n",
        "          q-values (tensor): estimated q-values, size (batch x action_size)\n",
        "    \"\"\"\n",
        "    return self.net(x)"
      ],
      "execution_count": null,
      "outputs": []
    },
    {
      "cell_type": "markdown",
      "metadata": {
        "id": "yCafVI552dgg"
      },
      "source": [
        "### Main"
      ]
    },
    {
      "cell_type": "code",
      "metadata": {
        "id": "8Sy_r9Wr2eg8",
        "colab": {
          "base_uri": "https://localhost:8080/",
          "height": 421
        },
        "outputId": "2694eacf-ce52-474e-e352-1a59516b15be"
      },
      "source": [
        "def dqn_main():\n",
        "  # Hyper parameters\n",
        "  lr = 1e-3\n",
        "  epochs = 500\n",
        "  start_training = 1000\n",
        "  gamma = 0.99\n",
        "  batch_size = 32\n",
        "  epsilon = 1\n",
        "  epsilon_decay = .9999\n",
        "  target_update = 1000\n",
        "  learn_frequency = 2\n",
        "\n",
        "  # Init environment\n",
        "  state_size = 4\n",
        "  action_size = 2\n",
        "  env = gym.make('CartPole-v1', )\n",
        "\n",
        "  # Init networks\n",
        "  q_network = QNetwork(state_size, action_size).cuda()\n",
        "  target_network = QNetwork(state_size, action_size).cuda()\n",
        "  target_network.load_state_dict(q_network.state_dict())\n",
        "\n",
        "  # Init optimizer\n",
        "  optim = torch.optim.Adam(q_network.parameters(), lr=lr)\n",
        "\n",
        "  # Init replay buffer\n",
        "  memory = []\n",
        "\n",
        "  # Begin main loop\n",
        "  results_dqn = []\n",
        "  global_step = 0\n",
        "  loop = tqdm(total=epochs, position=0, leave=False)\n",
        "  for epoch in range(epochs):\n",
        "    ######################\n",
        "    last_epoch = (epoch+1 == epochs)\n",
        "    # Record the last epoch, not the previous epochs\n",
        "    if last_epoch:\n",
        "      env = wrap_env(env)\n",
        "    ######################\n",
        "\n",
        "    # Reset environment\n",
        "    state = env.reset()\n",
        "    done = False\n",
        "    cum_reward = 0  # Track cumulative reward per episode\n",
        "\n",
        "    # Begin episode\n",
        "    while not done and cum_reward < 200:  # End after 200 steps \n",
        "      # Select e-greedy action\n",
        "      action, epsilon = get_action_dqn(q_network, state, epsilon, epsilon_decay)\n",
        "\n",
        "      # Take step\n",
        "      next_state, reward, done, _ = env.step(action)\n",
        "      # env.render()\n",
        "\n",
        "      # Store step in replay buffer\n",
        "      memory.append((state, action, next_state, reward, done))\n",
        "\n",
        "      cum_reward += reward\n",
        "      global_step += 1  # Increment total steps\n",
        "      state = next_state  # Set current state\n",
        "\n",
        "      # If time to train\n",
        "      if global_step > start_training and global_step % learn_frequency == 0:\n",
        "\n",
        "        # Sample batch\n",
        "        batch = prepare_batch(memory, batch_size)\n",
        "        \n",
        "        # Train\n",
        "        learn_dqn(batch, optim, q_network, target_network, gamma, global_step, target_update)\n",
        "    ######################\n",
        "    env.close()\n",
        "    ######################\n",
        "    # Print results at end of episode\n",
        "    results_dqn.append(cum_reward)\n",
        "    loop.update(1)\n",
        "    loop.set_description('Episodes: {} Reward: {}'.format(epoch, cum_reward))\n",
        "  \n",
        "  return results_dqn\n",
        "\n",
        "results_dqn = dqn_main()\n",
        "######################\n",
        "show_video()\n",
        "######################"
      ],
      "execution_count": null,
      "outputs": [
        {
          "output_type": "stream",
          "name": "stderr",
          "text": [
            ""
          ]
        },
        {
          "output_type": "display_data",
          "data": {
            "text/html": [
              "<video alt=\"test\" autoplay \n",
              "                loop controls style=\"height: 400px;\">\n",
              "                <source src=\"data:video/mp4;base64,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\" type=\"video/mp4\" />\n",
              "             </video>"
            ],
            "text/plain": [
              "<IPython.core.display.HTML object>"
            ]
          },
          "metadata": {}
        }
      ]
    },
    {
      "cell_type": "code",
      "metadata": {
        "id": "ZWYwytCDC3aw",
        "colab": {
          "base_uri": "https://localhost:8080/",
          "height": 265
        },
        "outputId": "0e1bb992-2407-4aaa-a8ed-71da11607cc7"
      },
      "source": [
        "plt.plot(results_dqn)\n",
        "plt.show()"
      ],
      "execution_count": null,
      "outputs": [
        {
          "output_type": "display_data",
          "data": {
            "image/png": "[encoded data removed]",
            "text/plain": [
              "<Figure size 432x288 with 1 Axes>"
            ]
          },
          "metadata": {
            "needs_background": "light"
          }
        }
      ]
    },
    {
      "cell_type": "markdown",
      "metadata": {
        "id": "qN9yy5EWVNz0"
      },
      "source": [
        "## PPO"
      ]
    },
    {
      "cell_type": "markdown",
      "metadata": {
        "id": "XvRUJUew0yN_"
      },
      "source": [
        "## Part 2\n",
        "\n",
        "Proximal Policy Optimization (https://arxiv.org/pdf/1707.06347.pdf) is a type of policy gradient method. Instead of calculating Q-values, we train a network $\\pi$ to optimize the probability of taking good actions directly, using states as inputs and actions as outputs. PPO also uses a value network $V$ that estimates state values in order to estimate the advantage $\\hat{A}$. \n",
        "\n",
        "Tuples of state, action distribution, action taken, and return $(s,\\pi(s), a,\\hat{R})$ are gathered for several rollouts. After training on this experience, these tuples are discarded and new experience is gathered.\n",
        "\n",
        "Loss for the value network and the policy network are calculated according to the following formula:\n",
        "\n",
        "$Loss=ValueLoss+PolicyLoss$\n",
        "\n",
        "$ValueLoss=\\frac{1}{N}\\sum \\bigg(\\hat{R} - V(s) \\bigg)^2 $\n",
        "\n",
        "$PolicyLoss=-\\frac{1}{N}\\sum \\min\\bigg( \\frac{\\pi'(a|s)}{\\pi(a|s)} \\hat{A}, clip(\\frac{\\pi'(a|s)}{\\pi(a|s)},1-\\epsilon,1+\\epsilon) \\hat{A} \\bigg) $\n",
        "\n",
        "$\\hat{R}_t = \\sum_{i=t}^H \\gamma^{i-1}r_i$\n",
        "\n",
        "$\\hat{A}_t=\\hat{R}_t-V(s_t)$\n",
        "\n",
        "Here, $\\pi'(a|s)$ is the probability of taking an action given a state under the current policy and $\\pi(a|s)$ is the probability of taking an action given a state under the policy used to gather data. In the loss function, $a$ is the action your agent actually took and is sampled from memory. \n",
        "\n",
        "Additionally, the $clip$ function clips the value of the first argument according to the lower and upper bounds in the second and third arguments resectively.\n",
        "\n",
        "Another important note: Your the calculation of your advantage $\\hat{A}$ should not permit gradient flow from your policy loss calculation. In other words, make sure to call `.detach()` on your advantage.\n",
        "\n",
        "### TODO\n",
        "\n",
        "- Implement calculate return method\n",
        "- Implement get action method\n",
        "- Implement PPO learning algorithm"
      ]
    },
    {
      "cell_type": "code",
      "metadata": {
        "id": "zsm1pILHVcEp"
      },
      "source": [
        "def calculate_return(memory, rollout, gamma):\n",
        "  \"\"\"Return memory with calculated return in experience tuple\n",
        "\n",
        "    Args:\n",
        "        memory (list): (state, action, action_dist, return) tuples\n",
        "        rollout (list): (state, action, action_dist, reward) tuples from last rollout\n",
        "        gamma (float): discount factor\n",
        "          Gamma = 0.9\n",
        "\n",
        "    Returns:\n",
        "        list: memory updated with (state, action, action_dist, return) tuples from rollout\n",
        "  \"\"\"\n",
        "  # Calculating the return.\n",
        "    # All we are doing is appending what has happened in the rollout to past memory,\n",
        "    # and calculating the true reward.\n",
        "  calc_return = 0\n",
        "  for state, action, action_dist, reward in reversed(rollout):\n",
        "    calc_return = reward + calc_return*gamma\n",
        "    memory.append((state, action, action_dist, calc_return))\n",
        "\n",
        "  return memory\n",
        "\n",
        "\n",
        "def get_action_ppo(network, state):\n",
        "  \"\"\"Sample action from the distribution obtained from the policy network\n",
        "\n",
        "    Args:\n",
        "        network (PolicyNetwork): Policy Network\n",
        "        state (np-array): current state, size (state_size)\n",
        "          State size = 4\n",
        "\n",
        "    Returns:\n",
        "        int: action sampled from output distribution of policy network\n",
        "        array: output distribution of policy network\n",
        "  \"\"\"\n",
        "  # with torch.no_grad() stops this stuff from wanting a gradient\n",
        "    # (This was done to stop an error I was getting. Thanks, Connor!)\n",
        "  with torch.no_grad():\n",
        "    # Converting the current state from list to Float32 tensor and putting it on the GPU.\n",
        "    state_t = torch.from_numpy(state.astype('float32')).cuda()\n",
        "\n",
        "    # Sampling an action from the network based on the current state.\n",
        "    sample_action = network(state_t.unsqueeze(0))  # Distribution\n",
        "\n",
        "    # Chosing an action from the sample_action distribution,\n",
        "      # torch.multinomial(sample_action, 1) will sample one action from the sample action distribution.\n",
        "    chosen_action = torch.multinomial(sample_action, 1)\n",
        "\n",
        "  return chosen_action.item(), sample_action\n",
        "\n",
        "\n",
        "def learn_ppo(optim, policy, value, memory_dataloader, epsilon, policy_epochs):\n",
        "  \"\"\"Implement PPO policy and value network updates. Iterate over your entire \n",
        "     memory the number of times indicated by policy_epochs (policy_epochs = 5).    \n",
        "\n",
        "    Args:\n",
        "        optim (Adam): value and policy optimizer\n",
        "        policy (PolicyNetwork): Policy Network\n",
        "          policy_network = PolicyNetwork(state_size, action_size).cuda()\n",
        "        value (ValueNetwork): Value Network\n",
        "          value_network = ValueNetwork(state_size).cuda()\n",
        "        memory_dataloader (DataLoader): dataloader with (state, action, action_dist, return) tensors\n",
        "        epsilon (float): trust region\n",
        "        policy_epochs (int): number of times to iterate over all memory\n",
        "  \"\"\"\n",
        "  # Go through all epochs\n",
        "  for epoch in range(policy_epochs):\n",
        "    for batch in memory_dataloader:\n",
        "      optim.zero_grad()\n",
        "      \n",
        "      # Get the all variables from memory (by batch)\n",
        "      state, action, action_dist, return_v = batch\n",
        "\n",
        "      # Convert each of the above variables into their appropriate dtype and putting them on the GPU\n",
        "      state_t       = state.type(torch.FloatTensor).cuda()\n",
        "      action_t      = action.type(torch.LongTensor).cuda()\n",
        "      action_dist_t = action_dist.type(torch.FloatTensor).cuda()\n",
        "      return_v_t    = return_v.type(torch.FloatTensor).cuda()\n",
        "\n",
        "      # Calculate advantage Â\n",
        "      advantage = (return_v_t - value(state_t).cuda()).detach()\n",
        "\n",
        "      # Calculate value loss\n",
        "      value_loss = F.mse_loss(return_v_t, value(state_t).squeeze())\n",
        "\n",
        "      # Calculate π(s,a)\n",
        "      policy_norm       = action_dist.squeeze(1)\n",
        "      action_onehot     = F.one_hot(action).bool()\n",
        "      taken_policy_norm = policy_norm[action_onehot]\n",
        "      \n",
        "      #Calculate π'(s,a)\n",
        "      policy_prime       = policy(state_t)\n",
        "      taken_policy_prime = policy_prime[action_onehot]\n",
        "      \n",
        "      #Calculate the ratio between π'(s,a)/π(s,a)\n",
        "      prim_div_norm = taken_policy_prime / taken_policy_norm\n",
        "\n",
        "      # Clipping π'(s,a)/π(s,a)\n",
        "      clip = torch.clip(prim_div_norm, 1-epsilon, 1+epsilon)\n",
        "      \n",
        "      # Left part of the policy loss (π'(s,a)/π(s,a))*Â\n",
        "      left_part = prim_div_norm * advantage\n",
        "\n",
        "      # Right part of the policy loss clip*Â\n",
        "      right_part = clip * advantage\n",
        "\n",
        "      # Calculating policy loss\n",
        "      policy_loss = torch.mean(torch.min(left_part, right_part))\n",
        "\n",
        "      # Total loss\n",
        "      total_loss = value_loss - policy_loss\n",
        "      \n",
        "      total_loss.backward()\n",
        "      optim.step()\n",
        "\n",
        "\n",
        "\n",
        "    # Go through entire dataset\n",
        "      # Do everything else\n",
        "\n",
        "  "
      ],
      "execution_count": null,
      "outputs": []
    },
    {
      "cell_type": "markdown",
      "metadata": {
        "id": "R6RXma_-vSGX"
      },
      "source": [
        "### Modules"
      ]
    },
    {
      "cell_type": "code",
      "metadata": {
        "id": "L8URnP8xvTTG"
      },
      "source": [
        "# Dataset that wraps memory for a dataloader\n",
        "class RLDataset(Dataset):\n",
        "  def __init__(self, data):\n",
        "    super().__init__()\n",
        "    self.data = []\n",
        "    for d in data:\n",
        "      self.data.append(d)\n",
        "  \n",
        "  def __getitem__(self, index):\n",
        "    return self.data[index]\n",
        " \n",
        "  def __len__(self):\n",
        "    return len(self.data)\n",
        "\n",
        "\n",
        "# Policy Network\n",
        "class PolicyNetwork(nn.Module):\n",
        "  def __init__(self, state_size, action_size):\n",
        "    super().__init__()\n",
        "    hidden_size = 8\n",
        "    \n",
        "    self.net = nn.Sequential(nn.Linear(state_size, hidden_size),\n",
        "                             nn.ReLU(),\n",
        "                             nn.Linear(hidden_size, hidden_size),\n",
        "                             nn.ReLU(),\n",
        "                             nn.Linear(hidden_size, hidden_size),\n",
        "                             nn.ReLU(),\n",
        "                             nn.Linear(hidden_size, action_size),\n",
        "                             nn.Softmax(dim=1))\n",
        "  \n",
        "  def forward(self, x):\n",
        "    \"\"\"Get policy from state\n",
        "\n",
        "      Args:\n",
        "          state (tensor): current state, size (batch x state_size)\n",
        "\n",
        "      Returns:\n",
        "          action_dist (tensor): probability distribution over actions (batch x action_size)\n",
        "    \"\"\"\n",
        "    return self.net(x)\n",
        "  \n",
        "\n",
        "# Value Network\n",
        "class ValueNetwork(nn.Module):\n",
        "  def __init__(self, state_size):\n",
        "    super().__init__()\n",
        "    hidden_size = 8\n",
        "  \n",
        "    self.net = nn.Sequential(nn.Linear(state_size, hidden_size),\n",
        "                             nn.ReLU(),\n",
        "                             nn.Linear(hidden_size, hidden_size),\n",
        "                             nn.ReLU(),\n",
        "                             nn.Linear(hidden_size, hidden_size),\n",
        "                             nn.ReLU(),\n",
        "                             nn.Linear(hidden_size, 1))\n",
        "    \n",
        "  def forward(self, x):\n",
        "    \"\"\"Estimate value given state\n",
        "\n",
        "      Args:\n",
        "          state (tensor): current state, size (batch x state_size)\n",
        "\n",
        "      Returns:\n",
        "          value (tensor): estimated value, size (batch)\n",
        "    \"\"\"\n",
        "    return self.net(x)"
      ],
      "execution_count": null,
      "outputs": []
    },
    {
      "cell_type": "markdown",
      "metadata": {
        "id": "_aBD_R_e01Qb"
      },
      "source": [
        "### Main"
      ]
    },
    {
      "cell_type": "code",
      "metadata": {
        "id": "qX_Bv4M4MyY2",
        "colab": {
          "base_uri": "https://localhost:8080/",
          "height": 421
        },
        "outputId": "ef253f27-6a95-43b5-e840-dd0c2cc196ef"
      },
      "source": [
        "def ppo_main():\n",
        "  # Hyper parameters\n",
        "  lr = 1e-3\n",
        "  epochs = 20\n",
        "  env_samples = 100\n",
        "  gamma = 0.9\n",
        "  batch_size = 256\n",
        "  epsilon = 0.2\n",
        "  policy_epochs = 5\n",
        "\n",
        "  # Init environment \n",
        "  state_size = 4\n",
        "  action_size = 2\n",
        "  env = gym.make('CartPole-v1')\n",
        "\n",
        "  # Init networks\n",
        "  policy_network = PolicyNetwork(state_size, action_size).cuda()\n",
        "  value_network = ValueNetwork(state_size).cuda()\n",
        "\n",
        "  # Init optimizer\n",
        "  optim = torch.optim.Adam(chain(policy_network.parameters(), value_network.parameters()), lr=lr)\n",
        "\n",
        "  # Start main loop\n",
        "  results_ppo = []\n",
        "  loop = tqdm(total=epochs, position=0, leave=False)\n",
        "  for epoch in range(epochs):\n",
        "    ######################\n",
        "    last_epoch = (epoch+1 == epochs)\n",
        "    # Record only last epoch\n",
        "    if last_epoch:\n",
        "      env = wrap_env(env)\n",
        "    ######################\n",
        "    \n",
        "    memory = []  # Reset memory every epoch\n",
        "    rewards = []  # Calculate average episodic reward per epoch\n",
        "\n",
        "    # Begin experience loop\n",
        "    for episode in range(env_samples):\n",
        "      \n",
        "      # Reset environment\n",
        "      state = env.reset()\n",
        "      done = False\n",
        "      rollout = []\n",
        "      cum_reward = 0  # Track cumulative reward\n",
        "\n",
        "      # Begin episode\n",
        "      while not done and cum_reward < 200:  # End after 200 steps   \n",
        "        # Get action\n",
        "        action, action_dist = get_action_ppo(policy_network, state)\n",
        "        \n",
        "        # Take step\n",
        "        next_state, reward, done, _ = env.step(action)\n",
        "        # env.render()\n",
        "\n",
        "        # Store step\n",
        "        rollout.append((state, action, action_dist, reward))\n",
        "\n",
        "        cum_reward += reward\n",
        "        state = next_state  # Set current state\n",
        "\n",
        "      # Calculate returns and add episode to memory\n",
        "      memory = calculate_return(memory, rollout, gamma)\n",
        "\n",
        "      rewards.append(cum_reward)\n",
        "      ######################\n",
        "      env.close()\n",
        "      ######################\n",
        "    # Train\n",
        "    dataset = RLDataset(memory)\n",
        "    loader = DataLoader(dataset, batch_size=batch_size, shuffle=True)\n",
        "    learn_ppo(optim, policy_network, value_network, loader, epsilon, policy_epochs)\n",
        "    \n",
        "    # Print results\n",
        "    results_ppo.extend(rewards)  # Store rewards for this epoch\n",
        "    loop.update(1)\n",
        "    loop.set_description(\"Epochs: {} Reward: {}\".format(epoch, results_ppo[-1]))\n",
        "\n",
        "  return results_ppo\n",
        "\n",
        "results_ppo = ppo_main()\n",
        "######################\n",
        "show_video()\n",
        "######################"
      ],
      "execution_count": null,
      "outputs": [
        {
          "output_type": "stream",
          "name": "stderr",
          "text": [
            ""
          ]
        },
        {
          "output_type": "display_data",
          "data": {
            "text/html": [
              "<video alt=\"test\" autoplay \n",
              "                loop controls style=\"height: 400px;\">\n",
              "                <source src=\"data:video/mp4;base64,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\" type=\"video/mp4\" />\n",
              "             </video>"
            ],
            "text/plain": [
              "<IPython.core.display.HTML object>"
            ]
          },
          "metadata": {}
        }
      ]
    },
    {
      "cell_type": "code",
      "metadata": {
        "id": "pLXetCMpC1DE",
        "colab": {
          "base_uri": "https://localhost:8080/",
          "height": 265
        },
        "outputId": "aaab8ce5-dd49-45af-d460-316bcf923a77"
      },
      "source": [
        "plt.plot(results_ppo)\n",
        "plt.show()"
      ],
      "execution_count": null,
      "outputs": [
        {
          "output_type": "display_data",
          "data": {
            "image/png": "[encoded data removed]",
            "text/plain": [
              "<Figure size 432x288 with 1 Axes>"
            ]
          },
          "metadata": {
            "needs_background": "light"
          }
        }
      ]
    },
    {
      "cell_type": "code",
      "metadata": {
        "id": "wHkJqFlnUS9F",
        "colab": {
          "base_uri": "https://localhost:8080/"
        },
        "outputId": "97e989e0-caa4-488c-ed42-b187e46c4d8e"
      },
      "source": [
        "!python -V"
      ],
      "execution_count": null,
      "outputs": [
        {
          "output_type": "stream",
          "name": "stdout",
          "text": [
            "Python 3.7.12\n"
          ]
        }
      ]
    }
  ]
}