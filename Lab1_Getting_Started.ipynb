{
  "cells": [
    {
      "cell_type": "markdown",
      "metadata": {
        "id": "view-in-github"
      },
      "source": [
        "<a href=\"https://colab.research.google.com/github/wingated/cs474_labs_f2019/blob/master/Alternate_Labs/DL_Lab1.ipynb\"><img src=\"https://colab.research.google.com/assets/colab-badge.svg\" alt=\"Open In Colab\"/></a>"
      ]
    },
    {
      "cell_type": "markdown",
      "metadata": {
        "id": "bkj1_ftQtuBk"
      },
      "source": [
        "# Lab 1: Getting Started\n",
        "\n",
        "## Objective  \n",
        "Get started with Google Colab, Python, and PyTorch. See deep learning in action with TensorFlow playground.\n",
        "\n",
        "## Deliverable\n",
        "For this lab, you will submit a Colab notebook (.ipynb) via Learning Suite.\n",
        "\n",
        "___\n",
        "\n",
        "### Grading\n",
        "Your notebook will be graded on the following:\n",
        "* 50% Part 1: Completed the 10 PyTorch microtasks\n",
        "* 40% Part 2: Image indicating TensorFlow success\n",
        "* 10% Tidy and legible figures, (for the future make sure to label axes where appropriate)\n",
        "\n",
        "___\n",
        "\n",
        "### Overview of Google Colab\n",
        "Throughout this class, we recommend you use Google's Colaboratory (Colab) for the labs. If you aren't familiar with Colab or IPython notebooks, take some time to look at the tutorials linked below.\n",
        "\n",
        "Colab provides an environment that interacts with IPython notebooks (similar to Jupyter) and utilizes a standardized Python distribution.\n",
        "In addition, Colab provides a GPU we can use for deep learning. We will talk about the advantages of GPU vs CPU training in class.\n",
        "\n",
        "While you are allowed to do the labs on your own machine, using Jupyter or some other IPython notebook editor, the labs were written and updated for the current Python distribution used by Colab. You may need to do extra troubleshooting to get them working locally. Also, setting up your own GPU for deep learning may be difficult, and training on the CPU may be unbearably slow in later labs.\n",
        "\n",
        "### Lab Details\n",
        "\n",
        "This lab is intended to get you used to IPython notebooks, Colab, and a few basic deep learning principles.\n",
        "\n",
        "As described above, the notebook should do two things: \n",
        "1.    Complete all 10 microtasks\n",
        "2.    Display an image that you generate using the Tensorflow playground\n",
        "\n",
        "For part 1, you will be using the PyTorch documentation to learn how to complete simple tasks. Each task is solvable in one or two lines of code. Links are provided for each microtask to give you a guided introduction to PyTorch.\n",
        "\n",
        "For part 2, you should visit the [TensorFlow playground](http://playground.tensorflow.org/),\n",
        "and play with different settings. Most of it will be unfamiliar,\n",
        "but don't worry – you can't break it!\n",
        "Once you have a working classifier on the spiral dataset, take a screenshot. \n",
        "Then use your Colab notebook to display that image in-line.\n",
        "___\n",
        "\n",
        "#### Helpful Links\n",
        "\n",
        "[Google Colab](http://colab.research.google.com/) The site where you will probably be coding the labs\n",
        "\n",
        "[A Colab notebook teaching you how to use Colab notebooks](https://colab.research.google.com/drive/1TzaPS3jvRadN-URLbQ9nD1ZNoZktfNRy)\n",
        "\n",
        "[Various Colab tutorials](https://sites.google.com/site/artml2018/tutorials)\n",
        "\n",
        "___"
      ]
    },
    {
      "cell_type": "markdown",
      "metadata": {
        "id": "QsTrJDP2QV8J"
      },
      "source": [
        "### Part 1\n",
        "\n",
        "This is a quick guided walkthrough of PyTorch tensors.\n",
        "\n",
        "PyTorch is a Python library based on the Torch machine learning framework. While other great deep learning alternatives exist, the labs we use in this course were written exclusively for PyTorch.\n",
        "\n",
        "#### Tensors\n",
        "\n",
        "The main PyTorch data structure is the tensor. A tensor in mathematics is a matrix or vector-like structure with more than 2 dimensions, though PyTorch tensors can have 0 or more dimensions. Tensors are implemented similarly to NumPy arrays, and most of what can be done with NumPy can be done with PyTorch tensors. Complete the microtasks in the cells below to learn basic PyTorch tensor manipulation. We provide links to the documentation for this lab, but you should feel comfortable searching the documentation yourself in later labs."
      ]
    },
    {
      "cell_type": "markdown",
      "metadata": {
        "id": "K4nOdMToQV8J"
      },
      "source": [
        "**TODO:** // Here are the list of things to do for this part\n",
        "\n",
        "* Complete the tensor microtasks\n",
        "\n",
        "**DONE:** // Put items from the TODO list here when you are done with them (double click on the cell, cut and paste the line). This is for your benefit as well as the TAs to help with grading.\n"
      ]
    },
    {
      "cell_type": "code",
      "execution_count": 1,
      "metadata": {
        "id": "y0s94_ryQV8K"
      },
      "outputs": [],
      "source": [
        "# Import statements for microtasks: Run this cell before running the microtask cells!\n",
        "import torch\n",
        "import numpy as np"
      ]
    },
    {
      "cell_type": "markdown",
      "metadata": {
        "id": "tilunK43QV8L"
      },
      "source": [
        "##### Task 1\n",
        "Tensors are the the lifeblood of PyTorch.<br>\n",
        "Construct a 5x3 tensor, 'a', of zeros and of dtype long. <br>\n",
        "https://pytorch.org/docs/stable/generated/torch.zeros.html <br>\n",
        "(To create tensors of other values, see `torch.ones()` and `torch.full()`)"
      ]
    },
    {
      "cell_type": "code",
      "execution_count": 2,
      "metadata": {
        "colab": {
          "base_uri": "https://localhost:8080/"
        },
        "id": "A9aHouhQ6cou",
        "outputId": "6e574267-e8c3-4ca3-9772-4a57f2509bde"
      },
      "outputs": [
        {
          "output_type": "stream",
          "name": "stdout",
          "text": [
            "tensor([[0, 0, 0],\n",
            "        [0, 0, 0],\n",
            "        [0, 0, 0],\n",
            "        [0, 0, 0],\n",
            "        [0, 0, 0]])\n",
            "torch.Size([5, 3])\n"
          ]
        }
      ],
      "source": [
        "# Your code here:\n",
        "a = torch.zeros(5,3, dtype=int)\n",
        "#\n",
        "# Don't change the following prints and asserts\n",
        "print(a)\n",
        "print(a.size())\n",
        "assert a.size() == torch.Size([5, 3])\n",
        "assert type(a[0][0].item()) is int"
      ]
    },
    {
      "cell_type": "markdown",
      "metadata": {
        "id": "xkCwULeAQV8M"
      },
      "source": [
        "##### Task 2\n",
        "Many of your bugs will come from incorrect tensor dimensions. <br>\n",
        "PyTorch has several built-in functions to give you the control need. <br>\n",
        "Using only the tensor's [`.unsqueeze()`](https://pytorch.org/docs/stable/tensors.html#torch.Tensor.unsqueeze) function, turn 'a' into a 5x1x3 tensor. Hint: use the `dim=` argument"
      ]
    },
    {
      "cell_type": "code",
      "execution_count": 3,
      "metadata": {
        "colab": {
          "base_uri": "https://localhost:8080/"
        },
        "id": "6rfOY4HqYDTP",
        "outputId": "0fa826ac-7430-4612-933d-d3dcdede130e"
      },
      "outputs": [
        {
          "output_type": "stream",
          "name": "stdout",
          "text": [
            "torch.Size([5, 1, 3])\n"
          ]
        }
      ],
      "source": [
        "#\n",
        "a = torch.unsqueeze(a, 1)\n",
        "#\n",
        "print(a.shape)\n",
        "assert a.shape == torch.Size([5, 1, 3])"
      ]
    },
    {
      "cell_type": "markdown",
      "metadata": {
        "id": "E53jhUvJQV8N"
      },
      "source": [
        "##### Task 3\n",
        "Each dimension means something different. <br>\n",
        "You can change the order of your dimensions without losing information. <br>\n",
        "Reshape 'a' into a 5x3x1 tensor, using the [`.view()`](https://pytorch.org/docs/stable/tensors.html#torch.Tensor.view) function"
      ]
    },
    {
      "cell_type": "code",
      "execution_count": 4,
      "metadata": {
        "colab": {
          "base_uri": "https://localhost:8080/"
        },
        "id": "zY1SJ95Ekokk",
        "outputId": "cf60cd38-0c32-4803-ee81-f254edd6de4d"
      },
      "outputs": [
        {
          "output_type": "stream",
          "name": "stdout",
          "text": [
            "torch.Size([5, 3, 1])\n"
          ]
        }
      ],
      "source": [
        "#\n",
        "a = a.view(5,3,1)\n",
        "#\n",
        "print(a.shape)\n",
        "assert a.shape == torch.Size([5, 3, 1])"
      ]
    },
    {
      "cell_type": "markdown",
      "metadata": {
        "id": "SUrpLItgQV8O"
      },
      "source": [
        "##### Task 4\n",
        "Dimensions of size 1 can sometimes be necessary for shape matching. <br>\n",
        "However, they can be removed without losing information. <br>\n",
        "[`squeeze()`](https://pytorch.org/docs/stable/tensors.html#torch.Tensor.squeeze) 'a' to remove dimensions of 1."
      ]
    },
    {
      "cell_type": "code",
      "execution_count": 5,
      "metadata": {
        "colab": {
          "base_uri": "https://localhost:8080/"
        },
        "id": "_0Q_1vDtmaKW",
        "outputId": "a1abac07-f0fe-4d57-e535-b97585fb23f9"
      },
      "outputs": [
        {
          "output_type": "stream",
          "name": "stdout",
          "text": [
            "torch.Size([5, 3])\n"
          ]
        }
      ],
      "source": [
        "#\n",
        "a = torch.squeeze(a)\n",
        "#\n",
        "print(a.shape)\n",
        "assert a.size() == torch.Size([5, 3])"
      ]
    },
    {
      "cell_type": "markdown",
      "metadata": {
        "id": "CPOFEvmQQV8P"
      },
      "source": [
        "##### Task 5\n",
        "You can turn any tensor into a tensor of a single dimension. <br>\n",
        "[`flatten()`](https://pytorch.org/docs/stable/tensors.html#torch.Tensor.flatten) 'a' to a single dimension."
      ]
    },
    {
      "cell_type": "code",
      "execution_count": 6,
      "metadata": {
        "colab": {
          "base_uri": "https://localhost:8080/"
        },
        "id": "5miM1dYxnmSY",
        "outputId": "3b068afe-b08a-421c-c6fa-55ab9710f5b4"
      },
      "outputs": [
        {
          "output_type": "stream",
          "name": "stdout",
          "text": [
            "torch.Size([15])\n"
          ]
        }
      ],
      "source": [
        "#\n",
        "a = torch.flatten(a)\n",
        "#\n",
        "print(a.size())\n",
        "assert  a.size() == torch.Size([15]) "
      ]
    },
    {
      "cell_type": "markdown",
      "metadata": {
        "id": "SKvGu0dSQV8R"
      },
      "source": [
        "##### Task 6\n",
        "It's easy to integrate other common Python data structures. <br>\n",
        "Initialize a tensor, 'b', from a list. <br>\n",
        "Note that the constructor `torch.Tensor()` creates a tensor of a default dtype (float), while the function [`torch.tensor()`](https://pytorch.org/docs/stable/generated/torch.tensor.html#torch.tensor) either uses a specified dtype or determines the type from the data passed in."
      ]
    },
    {
      "cell_type": "code",
      "execution_count": 7,
      "metadata": {
        "colab": {
          "base_uri": "https://localhost:8080/"
        },
        "id": "oxX1Ybcc7gDW",
        "outputId": "e25ebc34-ce1c-45d0-95eb-844457368cf3"
      },
      "outputs": [
        {
          "output_type": "stream",
          "name": "stdout",
          "text": [
            "tensor([1., 2., 3., 4., 5.])\n"
          ]
        }
      ],
      "source": [
        "my_list = [1,2,3,4,5]\n",
        "#\n",
        "b = torch.Tensor(my_list)\n",
        "#\n",
        "print(b)\n",
        "assert b.size() == torch.Size([5])"
      ]
    },
    {
      "cell_type": "markdown",
      "metadata": {
        "id": "fFWUqhStQV8S"
      },
      "source": [
        "##### Task 7\n",
        "GPUs will allow tensor operations to run much faster. <br>\n",
        "Assign 'a' and 'b' to run on GPU. <br>\n",
        "https://pytorch.org/docs/stable/tensors.html#torch.Tensor.cuda\n",
        "\n",
        "Note that this will not work if you don't have a cuda-enabled GPU available. You can connect to a machine with a GPU in Colab if you go to Runtime -> Change Runtime Type and set hardware accelerator to GPU, then click save."
      ]
    },
    {
      "cell_type": "code",
      "execution_count": 8,
      "metadata": {
        "colab": {
          "base_uri": "https://localhost:8080/"
        },
        "id": "4XpqRqfG9DTr",
        "outputId": "922f67fe-c321-4e80-e480-e9ef358c0857"
      },
      "outputs": [
        {
          "output_type": "stream",
          "name": "stdout",
          "text": [
            "tensor([0, 0, 0, 0, 0, 0, 0, 0, 0, 0, 0, 0, 0, 0, 0], device='cuda:0') tensor([1., 2., 3., 4., 5.], device='cuda:0')\n"
          ]
        }
      ],
      "source": [
        "#\n",
        "a = a.cuda()\n",
        "b = b.cuda()\n",
        "#\n",
        "print(a, b)\n",
        "assert a.is_cuda and b.is_cuda"
      ]
    },
    {
      "cell_type": "markdown",
      "metadata": {
        "id": "ttXstuGyQV8T"
      },
      "source": [
        "##### Task 8\n",
        "You cannot perform operations on tensors that are on different devices (GPU and CPU), and a tensor on the GPU cannot be converted to a NumPy array or visualized with Matplotlib. <br>\n",
        "Assign 'a' and 'b' to run on CPU. <br>\n",
        "https://pytorch.org/docs/stable/tensors.html#torch.Tensor.cpu"
      ]
    },
    {
      "cell_type": "code",
      "execution_count": 9,
      "metadata": {
        "colab": {
          "base_uri": "https://localhost:8080/"
        },
        "id": "FPD6NUDf7915",
        "outputId": "57000e74-f52b-4dc1-fd30-082257f830fa"
      },
      "outputs": [
        {
          "output_type": "stream",
          "name": "stdout",
          "text": [
            "tensor([0, 0, 0, 0, 0, 0, 0, 0, 0, 0, 0, 0, 0, 0, 0]) tensor([1., 2., 3., 4., 5.])\n"
          ]
        }
      ],
      "source": [
        "#\n",
        "a = a.cpu()\n",
        "b = b.cpu()\n",
        "#\n",
        "print(a, b)\n",
        "assert not a.is_cuda and not b.is_cuda"
      ]
    },
    {
      "cell_type": "markdown",
      "metadata": {
        "id": "Dy_H1nP9QV8T"
      },
      "source": [
        "##### Task 9\n",
        "You will often want to convert tensors to NumPy arrays to interact with other Python libraries. <br>\n",
        "Convert 'a' to a NumPy array 'c'. <br>\n",
        "https://pytorch.org/docs/stable/tensors.html#torch.Tensor.numpy"
      ]
    },
    {
      "cell_type": "code",
      "execution_count": 10,
      "metadata": {
        "colab": {
          "base_uri": "https://localhost:8080/"
        },
        "id": "1GMvFc2c9P_i",
        "outputId": "5b2a68e9-b217-4fea-9640-76eb676a73e5"
      },
      "outputs": [
        {
          "output_type": "stream",
          "name": "stdout",
          "text": [
            "<class 'numpy.ndarray'>\n"
          ]
        }
      ],
      "source": [
        "#\n",
        "c = a.numpy()\n",
        "#\n",
        "print(type(c))\n",
        "assert type(c) == np.ndarray"
      ]
    },
    {
      "cell_type": "markdown",
      "metadata": {
        "id": "hBDvVSOHQV8U"
      },
      "source": [
        "##### Task 10\n",
        "You may often want to convert your NumPy data back into PyTorch. <br>\n",
        "Convert NumPy array 'c' to tensor 'd'. <br>\n",
        "https://pytorch.org/docs/stable/generated/torch.from_numpy.html"
      ]
    },
    {
      "cell_type": "code",
      "execution_count": 11,
      "metadata": {
        "colab": {
          "base_uri": "https://localhost:8080/"
        },
        "id": "EVFr_ZNgBMHL",
        "outputId": "97bc405d-e476-4b57-fca5-93f8fb016450"
      },
      "outputs": [
        {
          "output_type": "stream",
          "name": "stdout",
          "text": [
            "torch.LongTensor\n"
          ]
        }
      ],
      "source": [
        "#\n",
        "d = torch.from_numpy(c)\n",
        "#\n",
        "print(d.type())\n",
        "assert torch.is_tensor(d)"
      ]
    },
    {
      "cell_type": "markdown",
      "metadata": {
        "id": "fM3h46ZAucnV"
      },
      "source": [
        "\n",
        "___\n",
        "\n",
        "### Part 2\n",
        "\n",
        "You must play with the Tensorflow playground neural network, and figure out how to create a classifier that successfully classifies the “spiral” dataset. Take a screenshot containing the visualization of the dataset and your classifier, the network architecture, and the hyperparameters of the classifier that learned the spiral dataset.\n",
        "\n",
        "\n",
        "[TensorFlow playground](http://playground.tensorflow.org/)\n",
        "\n",
        "**TODO:**\n",
        "* Create a classifier that successfully classifies the \"spiral\" dataset\n",
        "* Display the image below\n",
        "\n",
        "**DONE:**\n"
      ]
    },
    {
      "cell_type": "code",
      "execution_count": 12,
      "metadata": {
        "colab": {
          "resources": {
            "http://localhost:8080/nbextensions/google.colab/files.js": {
              "data": "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",
              "ok": true,
              "headers": [
                [
                  "content-type",
                  "application/javascript"
                ]
              ],
              "status": 200,
              "status_text": ""
            }
          },
          "base_uri": "https://localhost:8080/",
          "height": 477
        },
        "id": "d7NBX-dfQV8V",
        "outputId": "c6a35852-a06e-4e2d-fa83-a3dd67dee2df"
      },
      "outputs": [
        {
          "output_type": "display_data",
          "data": {
            "text/html": [
              "\n",
              "     <input type=\"file\" id=\"files-1bafc513-475e-4950-837d-7bb9dddea327\" name=\"files[]\" multiple disabled\n",
              "        style=\"border:none\" />\n",
              "     <output id=\"result-1bafc513-475e-4950-837d-7bb9dddea327\">\n",
              "      Upload widget is only available when the cell has been executed in the\n",
              "      current browser session. Please rerun this cell to enable.\n",
              "      </output>\n",
              "      <script src=\"/nbextensions/google.colab/files.js\"></script> "
            ],
            "text/plain": [
              "<IPython.core.display.HTML object>"
            ]
          },
          "metadata": {}
        },
        {
          "output_type": "stream",
          "name": "stdout",
          "text": [
            "Saving Screen Shot 2022-01-03 at 6.42.29 PM.png to Screen Shot 2022-01-03 at 6.42.29 PM.png\n"
          ]
        },
        {
          "output_type": "stream",
          "name": "stderr",
          "text": [
            "IOPub data rate exceeded.\n",
            "The notebook server will temporarily stop sending output\n",
            "to the client in order to avoid crashing it.\n",
            "To change this limit, set the config variable\n",
            "`--NotebookApp.iopub_data_rate_limit`.\n",
            "\n",
            "Current values:\n",
            "NotebookApp.iopub_data_rate_limit=1000000.0 (bytes/sec)\n",
            "NotebookApp.rate_limit_window=3.0 (secs)\n",
            "\n"
          ]
        },
        {
          "output_type": "display_data",
          "data": {
            "image/png": "[encoded data removed]",
            "text/plain": [
              "<Figure size 432x288 with 1 Axes>"
            ]
          },
          "metadata": {
            "needs_background": "light"
          }
        }
      ],
      "source": [
        "# Run this cell to upload and display your screenshot.\n",
        "# The results of code cells are saved along with the file, so if you can see the image below, we'll see it too.\n",
        "\n",
        "import io\n",
        "from PIL import Image\n",
        "from google.colab import files\n",
        "import matplotlib.pyplot as plt\n",
        "\n",
        "file_dict = files.upload()\n",
        "print(file_dict)\n",
        "image_path = io.BytesIO(file_dict[next(iter(file_dict))])\n",
        "image = Image.open(image_path)\n",
        "plt.imshow(image, aspect='auto')\n",
        "plt.axis('off')\n",
        "plt.show()"
      ]
    }
  ],
  "metadata": {
    "colab": {
      "collapsed_sections": [],
      "name": "lab1.ipynb",
      "provenance": []
    },
    "kernelspec": {
      "display_name": "Python 3",
      "language": "python",
      "name": "python3"
    },
    "language_info": {
      "codemirror_mode": {
        "name": "ipython",
        "version": 3
      },
      "file_extension": ".py",
      "mimetype": "text/x-python",
      "name": "python",
      "nbconvert_exporter": "python",
      "pygments_lexer": "ipython3",
      "version": "3.7.1"
    },
    "pycharm": {
      "stem_cell": {
        "cell_type": "raw",
        "metadata": {
          "collapsed": false
        },
        "source": []
      }
    },
    "accelerator": "GPU"
  },
  "nbformat": 4,
  "nbformat_minor": 0
}